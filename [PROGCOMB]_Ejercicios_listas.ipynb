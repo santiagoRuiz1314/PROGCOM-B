{
  "nbformat": 4,
  "nbformat_minor": 0,
  "metadata": {
    "colab": {
      "provenance": []
    },
    "kernelspec": {
      "name": "python3",
      "display_name": "Python 3"
    },
    "language_info": {
      "name": "python"
    }
  },
  "cells": [
    {
      "cell_type": "markdown",
      "source": [
        "##Ejercicio 15\n",
        "Desarrolla un programa que valide si tres números pueden formar un triángulo y de qué tipo es."
      ],
      "metadata": {
        "id": "nbCYeOUrzAtl"
      }
    },
    {
      "cell_type": "code",
      "source": [
        "lados = []\n",
        "\n",
        "print(\"Ingrese las medidas de los tres lados del triángulo:\")\n",
        "for i in range(3):\n",
        "    lado = float(input(f\"Lado {i+1}: \"))\n",
        "    lados.append(lado)\n",
        "\n",
        "lados.sort()\n",
        "\n",
        "if lados[0] + lados[1] > lados[2]:\n",
        "    print(\"Los lados ingresados pueden formar un triángulo.\")\n",
        "\n",
        "    if lados[0] == lados[1] == lados[2]:\n",
        "        print(\"Es un triángulo equilátero (tres lados iguales).\")\n",
        "    elif lados[0] == lados[1] or lados[1] == lados[2] or lados[0] == lados[2]:\n",
        "        print(\"Es un triángulo isósceles (dos lados iguales).\")\n",
        "    else:\n",
        "        print(\"Es un triángulo escaleno (todos los lados diferentes).\")\n",
        "\n",
        "    if lados[0]**2 + lados[1]**2 == lados[2]**2:\n",
        "        print(\"Además, es un triángulo rectángulo (cumple el Teorema de Pitágoras).\")\n",
        "    elif lados[0]**2 + lados[1]**2 > lados[2]**2:\n",
        "        print(\"Además, es un triángulo acutángulo (todos sus ángulos son agudos).\")\n",
        "    else:\n",
        "        print(\"Además, es un triángulo obtusángulo (tiene un ángulo obtuso).\")\n",
        "else:\n",
        "    print(\"Los lados ingresados NO pueden formar un triángulo.\")\n",
        "    print(\"Para formar un triángulo, la suma de las longitudes de dos lados debe ser mayor que la longitud del tercer lado.\")"
      ],
      "metadata": {
        "colab": {
          "base_uri": "https://localhost:8080/"
        },
        "id": "OV5X3iZZzO3z",
        "outputId": "f0c91162-bdb6-4abc-b722-19df3ab47405"
      },
      "execution_count": 1,
      "outputs": [
        {
          "output_type": "stream",
          "name": "stdout",
          "text": [
            "Ingrese las medidas de los tres lados del triángulo:\n",
            "Lado 1: 12\n",
            "Lado 2: 13\n",
            "Lado 3: 4\n",
            "Los lados ingresados pueden formar un triángulo.\n",
            "Es un triángulo escaleno (todos los lados diferentes).\n",
            "Además, es un triángulo obtusángulo (tiene un ángulo obtuso).\n"
          ]
        }
      ]
    },
    {
      "cell_type": "markdown",
      "source": [
        "##Ejercicio 16\n",
        "Crea un programa que muestre la tabla de multiplicar de un número hasta el 10."
      ],
      "metadata": {
        "id": "Ql1Mmg6PzWje"
      }
    },
    {
      "cell_type": "code",
      "source": [
        "numero = int(input(\"Ingresa un número para ver su tabla de multiplicar: \"))\n",
        "\n",
        "resultados = [numero * i for i in range(1, 11)]\n",
        "\n",
        "print(f\"\\nTabla de multiplicar del {numero}:\")\n",
        "for i in range(10):\n",
        "    print(f\"{numero} x {i+1} = {resultados[i]}\")"
      ],
      "metadata": {
        "colab": {
          "base_uri": "https://localhost:8080/"
        },
        "id": "tyswj2FMzWTj",
        "outputId": "c4624a68-e067-4af0-f479-ce67f5dd065c"
      },
      "execution_count": 3,
      "outputs": [
        {
          "output_type": "stream",
          "name": "stdout",
          "text": [
            "Ingresa un número para ver su tabla de multiplicar: 2\n",
            "\n",
            "Tabla de multiplicar del 2:\n",
            "2 x 1 = 2\n",
            "2 x 2 = 4\n",
            "2 x 3 = 6\n",
            "2 x 4 = 8\n",
            "2 x 5 = 10\n",
            "2 x 6 = 12\n",
            "2 x 7 = 14\n",
            "2 x 8 = 16\n",
            "2 x 9 = 18\n",
            "2 x 10 = 20\n"
          ]
        }
      ]
    },
    {
      "cell_type": "markdown",
      "source": [
        "##Ejercicio 17\n",
        "Escribe un programa que calcule la suma de números naturales hasta n."
      ],
      "metadata": {
        "id": "il7yENUOz6_t"
      }
    },
    {
      "cell_type": "code",
      "source": [
        "n = int(input(\"Ingresa un número n para calcular la suma de naturales hasta n: \"))\n",
        "\n",
        "naturales = [i for i in range(1, n+1)]\n",
        "suma = sum(naturales)\n",
        "\n",
        "print(f\"La suma de los números naturales del 1 al {n} es: {suma}\")\n",
        "\n",
        "formula = n * (n + 1) // 2\n",
        "print(f\"Comprobación usando la fórmula n*(n+1)/2: {formula}\")"
      ],
      "metadata": {
        "colab": {
          "base_uri": "https://localhost:8080/"
        },
        "id": "z-is1cdU0Bl0",
        "outputId": "b9f7c6cc-7e89-4334-bada-55bbaae9de8d"
      },
      "execution_count": 5,
      "outputs": [
        {
          "output_type": "stream",
          "name": "stdout",
          "text": [
            "Ingresa un número n para calcular la suma de naturales hasta n: 3\n",
            "La suma de los números naturales del 1 al 3 es: 6\n",
            "Comprobación usando la fórmula n*(n+1)/2: 6\n"
          ]
        }
      ]
    },
    {
      "cell_type": "markdown",
      "source": [
        "##Ejercicio 18\n",
        "Desarrolla un programa que calcule el factorial de un número. Recuerda que el factorial de 0 es 1 y no existen factoriales negativos."
      ],
      "metadata": {
        "id": "DyprNKZF0MKe"
      }
    },
    {
      "cell_type": "code",
      "source": [
        "numero = int(input(\"Ingresa un número para calcular su factorial: \"))\n",
        "\n",
        "if numero < 0:\n",
        "    print(\"Error: No existen factoriales de números negativos.\")\n",
        "elif numero == 0:\n",
        "    print(\"El factorial de 0 es: 1\")\n",
        "else:\n",
        "    factores = [i for i in range(1, numero + 1)]\n",
        "    factorial = 1\n",
        "\n",
        "    for factor in factores:\n",
        "        factorial *= factor\n",
        "\n",
        "    print(f\"El factorial de {numero} es: {factorial}\")"
      ],
      "metadata": {
        "colab": {
          "base_uri": "https://localhost:8080/"
        },
        "id": "MdjPhHk80Ldq",
        "outputId": "ed054e6d-9cc8-46c8-b971-3b4fa47b639a"
      },
      "execution_count": 4,
      "outputs": [
        {
          "output_type": "stream",
          "name": "stdout",
          "text": [
            "Ingresa un número para calcular su factorial: 2\n",
            "El factorial de 2 es: 2\n"
          ]
        }
      ]
    },
    {
      "cell_type": "markdown",
      "source": [
        "##Ejercicio 19\n",
        "Crea un programa que muestre los primeros n números de la serie Fibonacci."
      ],
      "metadata": {
        "id": "-JFi9pws0xjL"
      }
    },
    {
      "cell_type": "code",
      "source": [
        "n = int(input(\"Ingresa cuántos números de la serie Fibonacci quieres ver: \"))\n",
        "\n",
        "if n <= 0:\n",
        "    print(\"Por favor ingresa un número positivo.\")\n",
        "elif n == 1:\n",
        "    print(\"Los primeros\", n, \"números de la serie Fibonacci:\")\n",
        "    print(\"0\")\n",
        "else:\n",
        "    fibonacci = [0, 1]\n",
        "\n",
        "    while len(fibonacci) < n:\n",
        "        fibonacci.append(fibonacci[-1] + fibonacci[-2])\n",
        "\n",
        "    print(\"Los primeros\", n, \"números de la serie Fibonacci:\")\n",
        "    for numero in fibonacci[:n]:\n",
        "        print(numero, end=\" \")"
      ],
      "metadata": {
        "colab": {
          "base_uri": "https://localhost:8080/"
        },
        "id": "s4oAT6YH08r7",
        "outputId": "2b0923f4-e9e9-452d-8094-9b9640c19751"
      },
      "execution_count": 6,
      "outputs": [
        {
          "output_type": "stream",
          "name": "stdout",
          "text": [
            "Ingresa cuántos números de la serie Fibonacci quieres ver: 4\n",
            "Los primeros 4 números de la serie Fibonacci:\n",
            "0 1 1 2 "
          ]
        }
      ]
    },
    {
      "cell_type": "markdown",
      "source": [
        "##Ejercicio 20\n",
        "Escribe un programa que adivine entre un conjunto de diez colores definidos por el usuario, con un máximo de 10 intentos."
      ],
      "metadata": {
        "id": "UJQWwR5l1icT"
      }
    },
    {
      "cell_type": "code",
      "source": [
        "import random\n",
        "\n",
        "print(\"Programa para adivinar colores\")\n",
        "print(\"Primero, debes definir 10 colores distintos\")\n",
        "\n",
        "colores = []\n",
        "for i in range(10):\n",
        "    color = input(f\"Introduce el color #{i+1}: \")\n",
        "    colores.append(color.lower())\n",
        "\n",
        "color_secreto = random.choice(colores)\n",
        "\n",
        "print(\"\\n¡Comienza el juego! Tienes 10 intentos para adivinar el color secreto.\")\n",
        "print(\"Los colores disponibles son:\", colores)\n",
        "\n",
        "intentos = 0\n",
        "max_intentos = 10\n",
        "adivinado = False\n",
        "\n",
        "while intentos < max_intentos and not adivinado:\n",
        "    intentos_restantes = max_intentos - intentos\n",
        "    intento = input(f\"\\nIntento #{intentos+1} (te quedan {intentos_restantes} intentos). ¿Qué color eliges? \").lower()\n",
        "\n",
        "    intentos += 1\n",
        "\n",
        "    if intento == color_secreto:\n",
        "        adivinado = True\n",
        "        print(f\"\\n¡Felicidades! Has adivinado el color {color_secreto} en {intentos} intentos.\")\n",
        "    else:\n",
        "        if intento in colores:\n",
        "            posicion_intento = colores.index(intento)\n",
        "            posicion_secreto = colores.index(color_secreto)\n",
        "\n",
        "            if posicion_intento < posicion_secreto:\n",
        "                print(\"Pista: El color secreto está después en la lista.\")\n",
        "            else:\n",
        "                print(\"Pista: El color secreto está antes en la lista.\")\n",
        "        else:\n",
        "            print(\"Ese color no está en la lista de colores disponibles. Prueba de nuevo.\")\n",
        "            intentos -= 1  # No cuenta como intento si el color no está en la lista\n",
        "\n",
        "if not adivinado:\n",
        "    print(f\"\\nSe acabaron los intentos. El color secreto era: {color_secreto}\")"
      ],
      "metadata": {
        "id": "8lObTD-a1iBO"
      },
      "execution_count": null,
      "outputs": []
    },
    {
      "cell_type": "markdown",
      "source": [],
      "metadata": {
        "id": "JeqQruqO08BO"
      }
    },
    {
      "cell_type": "markdown",
      "source": [
        "##Ejercicio 21\n",
        "Desarrolla un programa que muestre los números pares del 1 al 100."
      ],
      "metadata": {
        "id": "bkHtp9kR1zE4"
      }
    },
    {
      "cell_type": "code",
      "source": [
        "numeros_pares = [numero for numero in range(1, 101) if numero % 2 == 0]\n",
        "\n",
        "print(\"Números pares del 1 al 100:\")\n",
        "for numero in numeros_pares:\n",
        "    print(numero, end=\" \")\n",
        "\n",
        "print(f\"\\n\\nTotal de números pares: {len(numeros_pares)}\")\n",
        "\n",
        "print(f\"¿Está el número 50 en la lista? {50 in numeros_pares}\")\n",
        "print(f\"¿Cuántas veces aparece el número 2? {numeros_pares.count(2)}\")\n",
        "\n",
        "print(f\"Posición del número 20 en la lista: {numeros_pares.index(20)}\")"
      ],
      "metadata": {
        "colab": {
          "base_uri": "https://localhost:8080/"
        },
        "id": "JTrILFdU18yP",
        "outputId": "2f012ae3-e469-460e-ab2d-6d8a743b804f"
      },
      "execution_count": 8,
      "outputs": [
        {
          "output_type": "stream",
          "name": "stdout",
          "text": [
            "Números pares del 1 al 100:\n",
            "2 4 6 8 10 12 14 16 18 20 22 24 26 28 30 32 34 36 38 40 42 44 46 48 50 52 54 56 58 60 62 64 66 68 70 72 74 76 78 80 82 84 86 88 90 92 94 96 98 100 \n",
            "\n",
            "Total de números pares: 50\n",
            "¿Está el número 50 en la lista? True\n",
            "¿Cuántas veces aparece el número 2? 1\n",
            "Posición del número 20 en la lista: 9\n"
          ]
        }
      ]
    },
    {
      "cell_type": "markdown",
      "source": [
        "##Ejercicio 22\n",
        "Crea un programa que calcule la suma de los dígitos de un número."
      ],
      "metadata": {
        "id": "f1LZJ02Y2XyE"
      }
    },
    {
      "cell_type": "code",
      "source": [
        "numero = int(input(\"Ingresa un número: \"))\n",
        "\n",
        "numero_str = str(abs(numero))\n",
        "digitos = [int(digito) for digito in numero_str]\n",
        "\n",
        "suma = sum(digitos)\n",
        "\n",
        "print(f\"La suma de los dígitos de {numero} es: {suma}\")"
      ],
      "metadata": {
        "colab": {
          "base_uri": "https://localhost:8080/"
        },
        "id": "H-mKIg002f2x",
        "outputId": "d98ee53b-0d44-449d-e990-e7d9e5a6e4e8"
      },
      "execution_count": 13,
      "outputs": [
        {
          "output_type": "stream",
          "name": "stdout",
          "text": [
            "Ingresa un número: 22\n",
            "La suma de los dígitos de 22 es: 4\n"
          ]
        }
      ]
    },
    {
      "cell_type": "markdown",
      "source": [
        "##Ejercicio 23\n",
        "Escribe un programa que determine si un número es primo."
      ],
      "metadata": {
        "id": "PeCq0oy93j6M"
      }
    },
    {
      "cell_type": "code",
      "source": [
        "numero = int(input(\"Ingresa un número para verificar si es primo: \"))\n",
        "\n",
        "if numero <= 1:\n",
        "    es_primo = False\n",
        "else:\n",
        "    divisores = [i for i in range(2, int(numero**0.5) + 1) if numero % i == 0]\n",
        "    es_primo = len(divisores) == 0\n",
        "\n",
        "if es_primo:\n",
        "    print(f\"{numero} es un número primo.\")\n",
        "else:\n",
        "    print(f\"{numero} no es un número primo.\")"
      ],
      "metadata": {
        "colab": {
          "base_uri": "https://localhost:8080/"
        },
        "id": "YgiQWTUp3pNw",
        "outputId": "a9cbd38e-bb7f-4a4f-cc92-ac24cbbcc7e0"
      },
      "execution_count": 14,
      "outputs": [
        {
          "output_type": "stream",
          "name": "stdout",
          "text": [
            "Ingresa un número para verificar si es primo: 3\n",
            "3 es un número primo.\n"
          ]
        }
      ]
    },
    {
      "cell_type": "markdown",
      "source": [
        "##Ejercicio 24\n",
        "Desarrolla un programa que muestre el patrón de un triángulo con asteriscos."
      ],
      "metadata": {
        "id": "VkDBL8Ry3tDF"
      }
    },
    {
      "cell_type": "code",
      "source": [
        "altura = int(input(\"Ingresa la altura del triángulo: \"))\n",
        "\n",
        "triangulo = []\n",
        "for i in range(1, altura + 1):\n",
        "    fila = \"*\" * i\n",
        "    triangulo.append(fila)\n",
        "\n",
        "for fila in triangulo:\n",
        "    print(fila)"
      ],
      "metadata": {
        "colab": {
          "base_uri": "https://localhost:8080/"
        },
        "id": "J035p1f63stL",
        "outputId": "29dc42e4-3b60-4814-9b08-e78cf4657a1e"
      },
      "execution_count": 18,
      "outputs": [
        {
          "output_type": "stream",
          "name": "stdout",
          "text": [
            "Ingresa la altura del triángulo: 11\n",
            "*\n",
            "**\n",
            "***\n",
            "****\n",
            "*****\n",
            "******\n",
            "*******\n",
            "********\n",
            "*********\n",
            "**********\n",
            "***********\n"
          ]
        }
      ]
    },
    {
      "cell_type": "markdown",
      "source": [
        "##Ejercicio 25\n",
        "Crea un programa que calcule la potencia de un número sin usar el operador **."
      ],
      "metadata": {
        "id": "2UY0gmCF392D"
      }
    },
    {
      "cell_type": "code",
      "source": [
        "base = float(input(\"Ingresa la base: \"))\n",
        "exponente = int(input(\"Ingresa el exponente (entero): \"))\n",
        "\n",
        "if exponente == 0:\n",
        "    resultado = 1\n",
        "elif exponente < 0:\n",
        "    factores = [base for _ in range(abs(exponente))]\n",
        "    producto = 1\n",
        "    for factor in factores:\n",
        "        producto *= factor\n",
        "    resultado = 1 / producto\n",
        "else:\n",
        "    factores = [base for _ in range(exponente)]\n",
        "    resultado = 1\n",
        "    for factor in factores:\n",
        "        resultado *= factor\n",
        "\n",
        "print(f\"{base} elevado a la {exponente} = {resultado}\")"
      ],
      "metadata": {
        "colab": {
          "base_uri": "https://localhost:8080/"
        },
        "id": "MApNNQrX4EHU",
        "outputId": "d46274a9-55f1-4a2b-dc86-85c489597fa3"
      },
      "execution_count": 19,
      "outputs": [
        {
          "output_type": "stream",
          "name": "stdout",
          "text": [
            "Ingresa la base: 4\n",
            "Ingresa el exponente (entero): 2\n",
            "4.0 elevado a la 2 = 16.0\n"
          ]
        }
      ]
    }
  ]
}