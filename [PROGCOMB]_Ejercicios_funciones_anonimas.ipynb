{
  "nbformat": 4,
  "nbformat_minor": 0,
  "metadata": {
    "colab": {
      "provenance": []
    },
    "kernelspec": {
      "name": "python3",
      "display_name": "Python 3"
    },
    "language_info": {
      "name": "python"
    }
  },
  "cells": [
    {
      "cell_type": "markdown",
      "source": [
        "#20"
      ],
      "metadata": {
        "id": "Igla0XDun-YZ"
      }
    },
    {
      "cell_type": "code",
      "execution_count": 15,
      "metadata": {
        "colab": {
          "base_uri": "https://localhost:8080/"
        },
        "id": "C8V07bK7mkwh",
        "outputId": "c30f05ec-a6a6-46e2-d430-05ab249a1224"
      },
      "outputs": [
        {
          "output_type": "stream",
          "name": "stdout",
          "text": [
            "Introduce el color 1: amarillo\n",
            "Introduce el color 2: negro\n",
            "Introduce el color 3: camolo\n",
            "Introduce el color 4: verde feo\n",
            "Introduce el color 5: azul\n",
            "Introduce el color 6: camaleon\n",
            "Introduce el color 7: red\n",
            "Introduce el color 8: blue\n",
            "Introduce el color 9: white\n",
            "Introduce el color 10: yellow\n",
            "Adivina el color: yellow\n",
            "Color incorrecto. Inténtalo de nuevo.\n",
            "Adivina el color: white\n",
            "Color incorrecto. Inténtalo de nuevo.\n",
            "Adivina el color: blue\n",
            "Color incorrecto. Inténtalo de nuevo.\n",
            "Adivina el color: red\n",
            "¡Correcto! Has adivinado en 4 intentos.\n"
          ]
        }
      ],
      "source": [
        "import random\n",
        "\n",
        "def adivina_color():\n",
        "\n",
        "    colores = [input(f\"Introduce el color {i+1}: \") for i in range(10)]\n",
        "    color_secreto = random.choice(colores)\n",
        "\n",
        "    intentos_max = 10\n",
        "    adivinado = False\n",
        "\n",
        "\n",
        "    intentos = []\n",
        "    for _ in range(intentos_max):\n",
        "        intento = input(\"Adivina el color: \")\n",
        "        intentos.append(intento)\n",
        "        if intento == color_secreto:\n",
        "            print(f\"¡Correcto! Has adivinado en {len(intentos)} intentos.\")\n",
        "            adivinado = True\n",
        "            break\n",
        "        else:\n",
        "            print(\"Color incorrecto. Inténtalo de nuevo.\")\n",
        "\n",
        "    if not adivinado:\n",
        "        print(f\"Se acabaron los intentos. El color era {color_secreto}.\")\n",
        "adivina_color()"
      ]
    },
    {
      "cell_type": "code",
      "source": [
        "import random\n",
        "\n",
        "def adivina_color_lambda():\n",
        "    colores = list(map(lambda i: input(f\"Introduce el color {i+1}: \"), range(10)))\n",
        "    color_secreto = random.choice(colores)\n",
        "\n",
        "    intentos_max = 10\n",
        "    intentos = 0\n",
        "\n",
        "\n",
        "    verificar = lambda intento: intento == color_secreto\n",
        "\n",
        "    while intentos < intentos_max:\n",
        "        intento = input(\"Adivina el color: \")\n",
        "        intentos += 1\n",
        "\n",
        "        if verificar(intento):\n",
        "            print(f\"¡Correcto! Has adivinado en {intentos} intentos.\")\n",
        "            break\n",
        "        else:\n",
        "            print(\"Color incorrecto. Inténtalo de nuevo.\")\n",
        "    else:\n",
        "        print(f\"Se acabaron los intentos. El color era {color_secreto}.\")\n",
        "\n",
        "adivina_color_lambda()"
      ],
      "metadata": {
        "id": "9cVk5iGfn7n2"
      },
      "execution_count": null,
      "outputs": []
    },
    {
      "cell_type": "markdown",
      "source": [
        "#21"
      ],
      "metadata": {
        "id": "u-xd5q1noJgH"
      }
    },
    {
      "cell_type": "code",
      "source": [
        "def pares_comprension():\n",
        "    pares = [num for num in range(1, 101) if num % 2 == 0]\n",
        "    print(pares)\n",
        "    return pares\n",
        "pares_comprension()"
      ],
      "metadata": {
        "id": "DVuJrCFtoLdY"
      },
      "execution_count": null,
      "outputs": []
    },
    {
      "cell_type": "code",
      "source": [
        "def pares_lambda():\n",
        "\n",
        "    pares = list(filter(lambda x: x % 2 == 0, range(1, 101)))\n",
        "    print(pares)\n",
        "    return pares\n",
        "\n",
        "pares_lambda()"
      ],
      "metadata": {
        "id": "3QxMgcqdob2V"
      },
      "execution_count": null,
      "outputs": []
    },
    {
      "cell_type": "markdown",
      "source": [
        "#22"
      ],
      "metadata": {
        "id": "2QYSA-0lohD5"
      }
    },
    {
      "cell_type": "code",
      "source": [
        "def suma_digitos_comprension(numero):\n",
        "    digitos = [int(digito) for digito in str(numero)]\n",
        "    suma = sum(digitos)\n",
        "    print(f\"La suma de los dígitos de {numero} es {suma}\")\n",
        "    return suma\n",
        "\n",
        "suma_digitos_comprension(12345)"
      ],
      "metadata": {
        "id": "olDGF3E0oiLy"
      },
      "execution_count": null,
      "outputs": []
    },
    {
      "cell_type": "code",
      "source": [
        "def suma_digitos_lambda(numero):\n",
        "    digitos = list(map(lambda x: int(x), str(numero)))\n",
        "    suma = sum(digitos)\n",
        "    print(f\"La suma de los dígitos de {numero} es {suma}\")\n",
        "    return suma\n",
        "\n",
        "\n",
        "suma_digitos_lambda(12345)"
      ],
      "metadata": {
        "id": "ENNueyGfonWf"
      },
      "execution_count": null,
      "outputs": []
    },
    {
      "cell_type": "markdown",
      "source": [
        "#23"
      ],
      "metadata": {
        "id": "ZGucb_SUosQ1"
      }
    },
    {
      "cell_type": "code",
      "source": [
        "def es_primo_comprension(numero):\n",
        "    if numero <= 1:\n",
        "        return False\n",
        "\n",
        "    divisores = [i for i in range(2, int(numero**0.5) + 1) if numero % i == 0]\n",
        "\n",
        "\n",
        "    es_primo = len(divisores) == 0\n",
        "\n",
        "    print(f\"El número {numero} {'es' if es_primo else 'no es'} primo\")\n",
        "    return es_primo\n",
        "\n",
        "es_primo_comprension(17)"
      ],
      "metadata": {
        "id": "m6wdFOZGouBl"
      },
      "execution_count": null,
      "outputs": []
    },
    {
      "cell_type": "code",
      "source": [
        "def es_primo_lambda(numero):\n",
        "    if numero <= 1:\n",
        "        return False\n",
        "\n",
        "\n",
        "    divisores = list(filter(lambda i: numero % i == 0, range(2, int(numero**0.5) + 1)))\n",
        "\n",
        "\n",
        "    es_primo = len(divisores) == 0\n",
        "\n",
        "    print(f\"El número {numero} {'es' if es_primo else 'no es'} primo\")\n",
        "    return es_primo\n",
        "\n",
        "es_primo_lambda(17)"
      ],
      "metadata": {
        "id": "uwhqoo3Po033"
      },
      "execution_count": null,
      "outputs": []
    },
    {
      "cell_type": "markdown",
      "source": [
        "#24"
      ],
      "metadata": {
        "id": "8yYYpJZvo6ea"
      }
    },
    {
      "cell_type": "code",
      "source": [
        "def triangulo_comprension(altura):\n",
        "\n",
        "    triangulo = ['*' * i for i in range(1, altura + 1)]\n",
        "\n",
        "\n",
        "    for linea in triangulo:\n",
        "        print(linea)\n",
        "\n",
        "    return triangulo\n",
        "triangulo_comprension(5)"
      ],
      "metadata": {
        "id": "4rxvllWZo8A2"
      },
      "execution_count": null,
      "outputs": []
    },
    {
      "cell_type": "code",
      "source": [
        "def triangulo_lambda(altura):\n",
        "\n",
        "    triangulo = list(map(lambda i: '*' * i, range(1, altura + 1)))\n",
        "\n",
        "\n",
        "    for linea in triangulo:\n",
        "        print(linea)\n",
        "\n",
        "    return triangulo\n",
        "triangulo_lambda(5)"
      ],
      "metadata": {
        "id": "y3i6-7AEpEjv"
      },
      "execution_count": null,
      "outputs": []
    },
    {
      "cell_type": "markdown",
      "source": [
        "#25"
      ],
      "metadata": {
        "id": "eBiqXia2pai0"
      }
    },
    {
      "cell_type": "code",
      "source": [
        "def potencia_comprension(base, exponente):\n",
        "\n",
        "    if exponente == 0:\n",
        "        return 1\n",
        "\n",
        "\n",
        "    resultado = 1\n",
        "    [resultado := resultado * base for _ in range(exponente)]\n",
        "\n",
        "    print(f\"{base} elevado a {exponente} es {resultado}\")\n",
        "    return resultado\n",
        "\n",
        "potencia_comprension(2, 8)"
      ],
      "metadata": {
        "id": "9gqzsiPUpcCa"
      },
      "execution_count": null,
      "outputs": []
    },
    {
      "cell_type": "code",
      "source": [
        "def potencia_lambda(base, exponente):\n",
        "\n",
        "    calcular_potencia = lambda b, e: 1 if e == 0 else b * calcular_potencia(b, e - 1)\n",
        "\n",
        "    resultado = calcular_potencia(base, exponente)\n",
        "    print(f\"{base} elevado a {exponente} es {resultado}\")\n",
        "    return resultado\n",
        "\n",
        "potencia_lambda(2, 8)"
      ],
      "metadata": {
        "id": "616XyHOYphqm"
      },
      "execution_count": null,
      "outputs": []
    },
    {
      "cell_type": "markdown",
      "source": [
        "#26"
      ],
      "metadata": {
        "id": "D6eq8PyUpltu"
      }
    },
    {
      "cell_type": "code",
      "source": [
        "def tablas_multiplicar_comprension():\n",
        "\n",
        "    tablas = [[f\"{i} x {j} = {i*j}\" for j in range(1, 11)] for i in range(1, 11)]\n",
        "\n",
        "\n",
        "    for i, tabla in enumerate(tablas, 1):\n",
        "        print(f\"\\nTabla del {i}:\")\n",
        "        for resultado in tabla:\n",
        "            print(resultado)\n",
        "\n",
        "    return tablas\n",
        "\n",
        "tablas_multiplicar_comprension()"
      ],
      "metadata": {
        "id": "sYlPG7gNpnSO"
      },
      "execution_count": null,
      "outputs": []
    },
    {
      "cell_type": "code",
      "source": [
        "def tablas_multiplicar_lambda():\n",
        "\n",
        "    tablas = list(map(lambda i: list(map(lambda j: f\"{i} x {j} = {i*j}\", range(1, 11))), range(1, 11)))\n",
        "\n",
        "    for i, tabla in enumerate(tablas, 1):\n",
        "        print(f\"\\nTabla del {i}:\")\n",
        "        for resultado in tabla:\n",
        "            print(resultado)\n",
        "\n",
        "    return tablas\n",
        "\n",
        "tablas_multiplicar_lambda()"
      ],
      "metadata": {
        "id": "k2kjDTymp58P"
      },
      "execution_count": null,
      "outputs": []
    },
    {
      "cell_type": "markdown",
      "source": [
        "#27"
      ],
      "metadata": {
        "id": "K9CrdU5Oqx45"
      }
    },
    {
      "cell_type": "code",
      "source": [
        "def numeros_perfectos_comprension(n):\n",
        "\n",
        "    perfectos = []\n",
        "\n",
        "    for num in range(1, n + 1):\n",
        "\n",
        "        divisores = [i for i in range(1, num) if num % i == 0]\n",
        "\n",
        "\n",
        "        if sum(divisores) == num:\n",
        "            perfectos.append(num)\n",
        "\n",
        "    print(f\"Números perfectos hasta {n}: {perfectos}\")\n",
        "    return perfectos\n",
        "\n",
        "numeros_perfectos_comprension(10000)"
      ],
      "metadata": {
        "id": "FqLvMg0Rqzlt"
      },
      "execution_count": null,
      "outputs": []
    },
    {
      "cell_type": "code",
      "source": [
        "def numeros_perfectos_lambda(n):\n",
        "\n",
        "    divisores = lambda num: list(filter(lambda i: num % i == 0, range(1, num)))\n",
        "\n",
        "\n",
        "    es_perfecto = lambda num: sum(divisores(num)) == num\n",
        "\n",
        "\n",
        "    perfectos = list(filter(es_perfecto, range(1, n + 1)))\n",
        "\n",
        "    print(f\"Números perfectos hasta {n}: {perfectos}\")\n",
        "    return perfectos\n",
        "\n",
        "numeros_perfectos_lambda(10000)"
      ],
      "metadata": {
        "id": "-OijCsp-rMSQ"
      },
      "execution_count": null,
      "outputs": []
    },
    {
      "cell_type": "markdown",
      "source": [
        "#28"
      ],
      "metadata": {
        "id": "ufn2snHLr4pd"
      }
    },
    {
      "cell_type": "code",
      "source": [
        "def diamante_comprension(altura):\n",
        "\n",
        "    if altura % 2 == 0:\n",
        "        altura += 1\n",
        "\n",
        "    mitad = altura // 2\n",
        "\n",
        "    parte_superior = [' ' * (mitad - i) + '*' * (2 * i + 1) for i in range(mitad + 1)]\n",
        "\n",
        "\n",
        "    parte_inferior = [' ' * (i + 1) + '*' * (2 * (mitad - i) - 1) for i in range(mitad)]\n",
        "\n",
        "\n",
        "    diamante = parte_superior + parte_inferior\n",
        "\n",
        "\n",
        "    for linea in diamante:\n",
        "        print(linea)\n",
        "\n",
        "    return diamante\n",
        "\n",
        "diamante_comprension(5)"
      ],
      "metadata": {
        "id": "y2XNuU44r52Q"
      },
      "execution_count": null,
      "outputs": []
    },
    {
      "cell_type": "code",
      "source": [
        "def diamante_lambda(altura):\n",
        "\n",
        "    if altura % 2 == 0:\n",
        "        altura += 1\n",
        "\n",
        "    mitad = altura // 2\n",
        "\n",
        "\n",
        "    parte_superior = list(map(lambda i: ' ' * (mitad - i) + '*' * (2 * i + 1), range(mitad + 1)))\n",
        "    parte_inferior = list(map(lambda i: ' ' * (i + 1) + '*' * (2 * (mitad - i) - 1), range(mitad)))\n",
        "\n",
        "\n",
        "    diamante = parte_superior + parte_inferior\n",
        "\n",
        "\n",
        "    for linea in diamante:\n",
        "        print(linea)\n",
        "\n",
        "    return diamante\n",
        "\n",
        "diamante_lambda(5)"
      ],
      "metadata": {
        "id": "BxgAsM0GsI3L"
      },
      "execution_count": null,
      "outputs": []
    },
    {
      "cell_type": "markdown",
      "source": [
        "#29"
      ],
      "metadata": {
        "id": "V26BsQprtCOv"
      }
    },
    {
      "cell_type": "code",
      "source": [
        "def numeros_armstrong_comprension(n):\n",
        "\n",
        "    armstrong = []\n",
        "\n",
        "    for num in range(1, n + 1):\n",
        "\n",
        "        num_str = str(num)\n",
        "        num_digitos = len(num_str)\n",
        "\n",
        "        suma = sum([int(digito) ** num_digitos for digito in num_str])\n",
        "\n",
        "\n",
        "        if suma == num:\n",
        "            armstrong.append(num)\n",
        "\n",
        "    print(f\"Números Armstrong hasta {n}: {armstrong}\")\n",
        "    return armstrong\n",
        "\n",
        "numeros_armstrong_comprension(10000)"
      ],
      "metadata": {
        "id": "Iwk8PE8dtEB1"
      },
      "execution_count": null,
      "outputs": []
    },
    {
      "cell_type": "code",
      "source": [
        "def numeros_armstrong_lambda(n):\n",
        "\n",
        "    es_armstrong = lambda num: num == sum(map(lambda d: int(d) ** len(str(num)), str(num)))\n",
        "\n",
        "\n",
        "    armstrong = list(filter(es_armstrong, range(1, n + 1)))\n",
        "\n",
        "    print(f\"Números Armstrong hasta {n}: {armstrong}\")\n",
        "    return armstrong\n",
        "\n",
        "numeros_armstrong_lambda(10000)"
      ],
      "metadata": {
        "id": "AY0do3MqtNgG"
      },
      "execution_count": null,
      "outputs": []
    },
    {
      "cell_type": "markdown",
      "source": [
        "#30"
      ],
      "metadata": {
        "id": "esemtBrMtZoF"
      }
    },
    {
      "cell_type": "code",
      "source": [
        "import time\n",
        "from datetime import datetime, timedelta\n",
        "\n",
        "def reloj_digital_comprension(duracion_segundos):\n",
        "\n",
        "    inicio = datetime.now()\n",
        "    fin = inicio + timedelta(seconds=duracion_segundos)\n",
        "\n",
        "    print(\"Reloj Digital (Ctrl+C para detener):\")\n",
        "\n",
        "    try:\n",
        "        while datetime.now() <= fin:\n",
        "\n",
        "            ahora = datetime.now()\n",
        "            tiempo_formateado = f\"{ahora.hour:02d}:{ahora.minute:02d}:{ahora.second:02d}\"\n",
        "\n",
        "            print(\"\\r\" + tiempo_formateado, end=\"\")\n",
        "            time.sleep(1)\n",
        "\n",
        "        print(\"\\n¡Tiempo finalizado!\")\n",
        "\n",
        "    except KeyboardInterrupt:\n",
        "        print(\"\\nReloj detenido por el usuario.\")\n",
        "\n",
        "reloj_digital_comprension(60)"
      ],
      "metadata": {
        "id": "ACnK_kIutby7"
      },
      "execution_count": null,
      "outputs": []
    },
    {
      "cell_type": "code",
      "source": [
        "import time\n",
        "from datetime import datetime, timedelta\n",
        "\n",
        "def reloj_digital_lambda(duracion_segundos):\n",
        "\n",
        "\n",
        "    formatear_hora = lambda t: f\"{t.hour:02d}:{t.minute:02d}:{t.second:02d}\"\n",
        "\n",
        "    inicio = datetime.now()\n",
        "    fin = inicio + timedelta(seconds=duracion_segundos)\n",
        "\n",
        "    print(\"Reloj Digital (Ctrl+C para detener):\")\n",
        "\n",
        "    try:\n",
        "        while datetime.now() <= fin:\n",
        "\n",
        "            print(\"\\r\" + formatear_hora(datetime.now()), end=\"\")\n",
        "            time.sleep(1)\n",
        "\n",
        "        print(\"\\n¡Tiempo finalizado!\")\n",
        "\n",
        "    except KeyboardInterrupt:\n",
        "        print(\"\\nReloj detenido por el usuario.\")\n",
        "\n",
        "reloj_digital_lambda(60)"
      ],
      "metadata": {
        "colab": {
          "base_uri": "https://localhost:8080/"
        },
        "id": "gHckd8Qvtj0u",
        "outputId": "9253a477-53ae-4629-b353-bb45341c2f60"
      },
      "execution_count": 16,
      "outputs": [
        {
          "output_type": "stream",
          "name": "stdout",
          "text": [
            "Reloj Digital (Ctrl+C para detener):\n",
            "14:03:36\n",
            "Reloj detenido por el usuario.\n"
          ]
        }
      ]
    }
  ]
}