{
  "nbformat": 4,
  "nbformat_minor": 0,
  "metadata": {
    "colab": {
      "provenance": []
    },
    "kernelspec": {
      "name": "python3",
      "display_name": "Python 3"
    },
    "language_info": {
      "name": "python"
    }
  },
  "cells": [
    {
      "cell_type": "markdown",
      "source": [
        "###EJERCICIO\n",
        "Generar los siguientes diccionarios:\n",
        "1. Un diccionario que almacena n nombres de usuarios, sus alturas, pesos, IMC y descripción\n",
        "2. Un diccionario que almacena n códigos, sus respectivas 5 notas y su promedio\n",
        "3. Un diccionario que almacena n códigos de productos de una tienda, sus respectivos precios y su % de descuento"
      ],
      "metadata": {
        "id": "ZatodBhwhTS_"
      }
    },
    {
      "cell_type": "code",
      "execution_count": 6,
      "metadata": {
        "id": "7oXnk08eeRjC"
      },
      "outputs": [],
      "source": [
        "# A partir de los otros si lo hago con input\n",
        "\n",
        "Diccionario1 = {\n",
        "    \"nombres\": [\"Santiago\", \"David\", \"Carlos\"],\n",
        "    \"altura\": [1.72, 1.34, 2.01],\n",
        "    \"peso\": [68, 80, 90],\n",
        "    \"IMC\": [20, 20.1, 30.2],\n",
        "    \"descripcion\": \"aca esta la informacion\"\n",
        "}\n",
        "\n",
        "estudiantes = {\n",
        "    \"1001\": {\n",
        "        \"notas\": [4.5, 3.8, 4.2, 4.9, 5.0],\n",
        "        \"promedio\": sum([4.5, 3.8, 4.2, 4.9, 5.0]) / 5\n",
        "    },\n",
        "    \"1002\": {\n",
        "        \"notas\": [3.0, 2.8, 3.5, 3.9, 4.2],\n",
        "        \"promedio\": sum([3.0, 2.8, 3.5, 3.9, 4.2]) / 5\n",
        "    },\n",
        "    \"1003\": {\n",
        "        \"notas\": [4.0, 4.1, 3.9, 4.5, 4.8],\n",
        "        \"promedio\": sum([4.0, 4.1, 3.9, 4.5, 4.8]) / 5\n",
        "    }\n",
        "}\n",
        "productos = {\n",
        "    \"P001\": {\n",
        "        \"precio\": 120.50,\n",
        "        \"descuento\": 10\n",
        "    },\n",
        "    \"P002\": {\n",
        "        \"precio\": 80.75,\n",
        "        \"descuento\": 5\n",
        "    },\n",
        "    \"P003\": {\n",
        "        \"precio\": 150.00,\n",
        "        \"descuento\": 15\n",
        "    },\n",
        "    \"P004\": {\n",
        "        \"precio\": 60.99,\n",
        "        \"descuento\": 8\n",
        "    }\n",
        "}\n"
      ]
    },
    {
      "cell_type": "markdown",
      "source": [
        "#Ejercicio 15"
      ],
      "metadata": {
        "id": "d9MsQladqCrY"
      }
    },
    {
      "cell_type": "code",
      "source": [
        "triangulo = {\n",
        "    \"lados\": [],\n",
        "    \"es_valido\": False,\n",
        "    \"tipo_lados\": \"\",\n",
        "    \"tipo_angulos\": \"\"\n",
        "}\n",
        "\n",
        "print(\"Ingrese las medidas de los tres lados del triángulo:\")\n",
        "for i in range(3):\n",
        "    lado = float(input(f\"Lado {i+1}: \"))\n",
        "    triangulo[\"lados\"].append(lado)\n",
        "\n",
        "triangulo[\"lados\"].sort()\n",
        "\n",
        "if triangulo[\"lados\"][0] + triangulo[\"lados\"][1] > triangulo[\"lados\"][2]:\n",
        "    triangulo[\"es_valido\"] = True\n",
        "    print(\"Los lados ingresados pueden formar un triángulo.\")\n",
        "\n",
        "    if triangulo[\"lados\"][0] == triangulo[\"lados\"][1] == triangulo[\"lados\"][2]:\n",
        "        triangulo[\"tipo_lados\"] = \"equilátero\"\n",
        "        print(\"Es un triángulo equilátero (tres lados iguales).\")\n",
        "    elif (triangulo[\"lados\"][0] == triangulo[\"lados\"][1] or\n",
        "          triangulo[\"lados\"][1] == triangulo[\"lados\"][2] or\n",
        "          triangulo[\"lados\"][0] == triangulo[\"lados\"][2]):\n",
        "        triangulo[\"tipo_lados\"] = \"isósceles\"\n",
        "        print(\"Es un triángulo isósceles (dos lados iguales).\")\n",
        "    else:\n",
        "        triangulo[\"tipo_lados\"] = \"escaleno\"\n",
        "        print(\"Es un triángulo escaleno (todos los lados diferentes).\")\n",
        "\n",
        "    a, b, c = triangulo[\"lados\"][0], triangulo[\"lados\"][1], triangulo[\"lados\"][2]\n",
        "    if a**2 + b**2 == c**2:\n",
        "        triangulo[\"tipo_angulos\"] = \"rectángulo\"\n",
        "        print(\"Además, es un triángulo rectángulo (cumple el Teorema de Pitágoras).\")\n",
        "    elif a**2 + b**2 > c**2:\n",
        "        triangulo[\"tipo_angulos\"] = \"acutángulo\"\n",
        "        print(\"Además, es un triángulo acutángulo (todos sus ángulos son agudos).\")\n",
        "    else:\n",
        "        triangulo[\"tipo_angulos\"] = \"obtusángulo\"\n",
        "        print(\"Además, es un triángulo obtusángulo (tiene un ángulo obtuso).\")\n",
        "else:\n",
        "    triangulo[\"es_valido\"] = False\n",
        "    print(\"Los lados ingresados NO pueden formar un triángulo.\")\n",
        "    print(\"Para formar un triángulo, la suma de las longitudes de dos lados debe ser mayor que la longitud del tercer lado.\")\n",
        "\n",
        "print(\"\\nInformación del triángulo:\")\n",
        "print(triangulo)"
      ],
      "metadata": {
        "colab": {
          "base_uri": "https://localhost:8080/"
        },
        "id": "XL-pXjRSqCdF",
        "outputId": "4e9dcf1c-2b7e-4772-fbc8-e9e9cd4f14d6"
      },
      "execution_count": 9,
      "outputs": [
        {
          "output_type": "stream",
          "name": "stdout",
          "text": [
            "Ingrese las medidas de los tres lados del triángulo:\n",
            "Lado 1: 12\n",
            "Lado 2: 123\n",
            "Lado 3: 3\n",
            "Los lados ingresados NO pueden formar un triángulo.\n",
            "Para formar un triángulo, la suma de las longitudes de dos lados debe ser mayor que la longitud del tercer lado.\n",
            "\n",
            "Información del triángulo como diccionario:\n",
            "{'lados': [3.0, 12.0, 123.0], 'es_valido': False, 'tipo_lados': '', 'tipo_angulos': ''}\n"
          ]
        }
      ]
    },
    {
      "cell_type": "markdown",
      "source": [
        "#Ejercicio 16"
      ],
      "metadata": {
        "id": "N8UCUz6-qfq3"
      }
    },
    {
      "cell_type": "code",
      "source": [
        "tabla = {\n",
        "    \"numero\": 0,\n",
        "    \"resultados\": {}\n",
        "}\n",
        "\n",
        "tabla[\"numero\"] = int(input(\"Ingresa un número para ver su tabla de multiplicar: \"))\n",
        "\n",
        "for i in range(1, 11):\n",
        "    tabla[\"resultados\"][i] = tabla[\"numero\"] * i\n",
        "\n",
        "print(f\"\\nTabla de multiplicar del {tabla['numero']}:\")\n",
        "for i in range(1, 11):\n",
        "    print(f\"{tabla['numero']} x {i} = {tabla['resultados'][i]}\")"
      ],
      "metadata": {
        "colab": {
          "base_uri": "https://localhost:8080/"
        },
        "id": "ZidPhO62qhiZ",
        "outputId": "15075e2c-7dd1-42bb-b260-75954923dfab"
      },
      "execution_count": 10,
      "outputs": [
        {
          "output_type": "stream",
          "name": "stdout",
          "text": [
            "Ingresa un número para ver su tabla de multiplicar: 32\n",
            "\n",
            "Tabla de multiplicar del 32:\n",
            "32 x 1 = 32\n",
            "32 x 2 = 64\n",
            "32 x 3 = 96\n",
            "32 x 4 = 128\n",
            "32 x 5 = 160\n",
            "32 x 6 = 192\n",
            "32 x 7 = 224\n",
            "32 x 8 = 256\n",
            "32 x 9 = 288\n",
            "32 x 10 = 320\n"
          ]
        }
      ]
    },
    {
      "cell_type": "markdown",
      "source": [
        "#Ejercicio 17"
      ],
      "metadata": {
        "id": "O8d7iAO-qkS8"
      }
    },
    {
      "cell_type": "code",
      "source": [
        "calculo = {\n",
        "    \"n\": 0,\n",
        "    \"naturales\": {},\n",
        "    \"suma\": 0,\n",
        "    \"formula\": 0\n",
        "}\n",
        "\n",
        "calculo[\"n\"] = int(input(\"Ingresa un número n para calcular la suma de naturales hasta n: \"))\n",
        "\n",
        "for i in range(1, calculo[\"n\"]+1):\n",
        "    calculo[\"naturales\"][i] = i\n",
        "\n",
        "calculo[\"suma\"] = sum(calculo[\"naturales\"].values())\n",
        "\n",
        "print(f\"La suma de los números naturales del 1 al {calculo['n']} es: {calculo['suma']}\")\n",
        "\n",
        "calculo[\"formula\"] = calculo[\"n\"] * (calculo[\"n\"] + 1) // 2\n"
      ],
      "metadata": {
        "colab": {
          "base_uri": "https://localhost:8080/"
        },
        "id": "gke44Nv6qncx",
        "outputId": "89dd2727-f5d2-4040-9802-64401849ef2a"
      },
      "execution_count": 13,
      "outputs": [
        {
          "output_type": "stream",
          "name": "stdout",
          "text": [
            "Ingresa un número n para calcular la suma de naturales hasta n: 23\n",
            "La suma de los números naturales del 1 al 23 es: 276\n"
          ]
        }
      ]
    },
    {
      "cell_type": "markdown",
      "source": [
        "#Ejercicio 18"
      ],
      "metadata": {
        "id": "tt9p2ifKrkhc"
      }
    },
    {
      "cell_type": "code",
      "source": [
        "factorial = {\n",
        "    \"numero\": 0,\n",
        "    \"factores\": {},\n",
        "    \"resultado\": 1,\n",
        "    \"valido\": True\n",
        "}\n",
        "\n",
        "factorial[\"numero\"] = int(input(\"Ingresa un número para calcular su factorial: \"))\n",
        "\n",
        "if factorial[\"numero\"] < 0:\n",
        "    factorial[\"valido\"] = False\n",
        "    print(\"Error: No existen factoriales de números negativos.\")\n",
        "elif factorial[\"numero\"] == 0:\n",
        "    print(\"El factorial de 0 es: 1\")\n",
        "else:\n",
        "    for i in range(1, factorial[\"numero\"] + 1):\n",
        "        factorial[\"factores\"][i] = i\n",
        "\n",
        "    for factor in factorial[\"factores\"].values():\n",
        "        factorial[\"resultado\"] *= factor\n",
        "\n",
        "    print(f\"El factorial de {factorial['numero']} es: {factorial['resultado']}\")"
      ],
      "metadata": {
        "colab": {
          "base_uri": "https://localhost:8080/"
        },
        "id": "Wad64uqnrld2",
        "outputId": "e99fc2e8-c90e-4d8f-ffdc-6601564a4737"
      },
      "execution_count": 15,
      "outputs": [
        {
          "output_type": "stream",
          "name": "stdout",
          "text": [
            "Ingresa un número para calcular su factorial: 2\n",
            "El factorial de 2 es: 2\n"
          ]
        }
      ]
    },
    {
      "cell_type": "markdown",
      "source": [
        "#Ejercicio 19"
      ],
      "metadata": {
        "id": "VfYJ5uEAru3b"
      }
    },
    {
      "cell_type": "code",
      "source": [
        "fibonacci = {\n",
        "    \"cantidad\": 0,\n",
        "    \"serie\": {},\n",
        "    \"valido\": True\n",
        "}\n",
        "\n",
        "fibonacci[\"cantidad\"] = int(input(\"Ingresa cuántos números de la serie Fibonacci quieres ver: \"))\n",
        "\n",
        "if fibonacci[\"cantidad\"] <= 0:\n",
        "    fibonacci[\"valido\"] = False\n",
        "    print(\"Por favor ingresa un número positivo.\")\n",
        "elif fibonacci[\"cantidad\"] == 1:\n",
        "    print(\"Los primeros\", fibonacci[\"cantidad\"], \"números de la serie Fibonacci:\")\n",
        "    fibonacci[\"serie\"] = {0: 0}\n",
        "    print(\"0\")\n",
        "else:\n",
        "    fibonacci[\"serie\"] = {0: 0, 1: 1}\n",
        "\n",
        "    indice = 2\n",
        "    while len(fibonacci[\"serie\"]) < fibonacci[\"cantidad\"]:\n",
        "        fibonacci[\"serie\"][indice] = fibonacci[\"serie\"][indice-1] + fibonacci[\"serie\"][indice-2]\n",
        "        indice += 1\n",
        "\n",
        "    print(\"Los primeros\", fibonacci[\"cantidad\"], \"números de la serie Fibonacci:\")\n",
        "    for i in range(fibonacci[\"cantidad\"]):\n",
        "        print(fibonacci[\"serie\"][i], end=\" \")"
      ],
      "metadata": {
        "colab": {
          "base_uri": "https://localhost:8080/"
        },
        "id": "-XIO269EryRI",
        "outputId": "e7ad6c3b-1d29-4fd2-a0f5-0d25c561b4e7"
      },
      "execution_count": 16,
      "outputs": [
        {
          "output_type": "stream",
          "name": "stdout",
          "text": [
            "Ingresa cuántos números de la serie Fibonacci quieres ver: 4\n",
            "Los primeros 4 números de la serie Fibonacci:\n",
            "0 1 1 2 "
          ]
        }
      ]
    },
    {
      "cell_type": "markdown",
      "source": [
        "#Ejercicio 20"
      ],
      "metadata": {
        "id": "EiOB6TDbsFtJ"
      }
    },
    {
      "cell_type": "code",
      "source": [
        "import random\n",
        "\n",
        "juego = {\n",
        "    \"colores\": {},\n",
        "    \"color_secreto\": \"\",\n",
        "    \"intentos\": 0,\n",
        "    \"max_intentos\": 10,\n",
        "    \"adivinado\": False\n",
        "}\n",
        "\n",
        "print(\"adivinar colores\")\n",
        "print(\"Primero, debes definir 10 colores distintos\")\n",
        "\n",
        "for i in range(10):\n",
        "    color = input(f\"Introduce el color #{i+1}: \")\n",
        "    juego[\"colores\"][i] = color.lower()\n",
        "\n",
        "juego[\"color_secreto\"] = random.choice(list(juego[\"colores\"].values()))\n",
        "\n",
        "print(\"\\n¡Comienza el juego! Tienes 10 intentos para adivinar el color secreto.\")\n",
        "print(\"Los colores disponibles son:\", list(juego[\"colores\"].values()))\n",
        "\n",
        "while juego[\"intentos\"] < juego[\"max_intentos\"] and not juego[\"adivinado\"]:\n",
        "    intentos_restantes = juego[\"max_intentos\"] - juego[\"intentos\"]\n",
        "    intento = input(f\"\\nIntento #{juego['intentos']+1} (te quedan {intentos_restantes} intentos). ¿Qué color eliges? \").lower()\n",
        "\n",
        "    juego[\"intentos\"] += 1\n",
        "\n",
        "    if intento == juego[\"color_secreto\"]:\n",
        "        juego[\"adivinado\"] = True\n",
        "        print(f\"\\n¡Felicidades! Has adivinado el color {juego['color_secreto']} en {juego['intentos']} intentos.\")\n",
        "    else:\n",
        "        if intento in juego[\"colores\"].values():\n",
        "            posicion_intento = list(juego[\"colores\"].values()).index(intento)\n",
        "            posicion_secreto = list(juego[\"colores\"].values()).index(juego[\"color_secreto\"])\n",
        "\n",
        "            if posicion_intento < posicion_secreto:\n",
        "                print(\"Pista: El color secreto está después en la lista.\")\n",
        "            else:\n",
        "                print(\"Pista: El color secreto está antes en la lista.\")\n",
        "        else:\n",
        "            print(\"Ese color no está en la lista de colores disponibles. Prueba de nuevo.\")\n",
        "            juego[\"intentos\"] -= 1\n",
        "\n",
        "if not juego[\"adivinado\"]:\n",
        "    print(f\"\\nSe acabaron los intentos. El color secreto era: {juego['color_secreto']}\")"
      ],
      "metadata": {
        "colab": {
          "base_uri": "https://localhost:8080/"
        },
        "id": "GC9OXlTHsHGd",
        "outputId": "b7fe0b90-ca43-4d37-8cfb-b4eeebb85ac9"
      },
      "execution_count": 17,
      "outputs": [
        {
          "output_type": "stream",
          "name": "stdout",
          "text": [
            "Programa para adivinar colores\n",
            "Primero, debes definir 10 colores distintos\n",
            "Introduce el color #1: azul\n",
            "Introduce el color #2: verde\n",
            "Introduce el color #3: amarillo\n",
            "Introduce el color #4: negro\n",
            "Introduce el color #5: rosa\n",
            "Introduce el color #6: blanco\n",
            "Introduce el color #7: verde claro\n",
            "Introduce el color #8: gris\n",
            "Introduce el color #9: rojo\n",
            "Introduce el color #10: nardo\n",
            "\n",
            "¡Comienza el juego! Tienes 10 intentos para adivinar el color secreto.\n",
            "Los colores disponibles son: ['azul', 'verde', 'amarillo', 'negro', 'rosa', 'blanco', 'verde claro', 'gris', 'rojo', 'nardo']\n",
            "\n",
            "Intento #1 (te quedan 10 intentos). ¿Qué color eliges? nardo\n",
            "Pista: El color secreto está antes en la lista.\n",
            "\n",
            "Intento #2 (te quedan 9 intentos). ¿Qué color eliges? rosa\n",
            "Pista: El color secreto está antes en la lista.\n",
            "\n",
            "Intento #3 (te quedan 8 intentos). ¿Qué color eliges? amarillo\n",
            "\n",
            "¡Felicidades! Has adivinado el color amarillo en 3 intentos.\n"
          ]
        }
      ]
    },
    {
      "cell_type": "markdown",
      "source": [
        "#Ejercicio 21"
      ],
      "metadata": {
        "id": "MawQtAlCs7Ke"
      }
    },
    {
      "cell_type": "code",
      "source": [
        "numeros = {\n",
        "    \"pares\": {},\n",
        "    \"total\": 0\n",
        "}\n",
        "\n",
        "for numero in range(1, 101):\n",
        "    if numero % 2 == 0:\n",
        "        numeros[\"pares\"][numeros[\"total\"]] = numero\n",
        "        numeros[\"total\"] += 1\n",
        "\n",
        "print(\"Números pares del 1 al 100:\")\n",
        "for indice in numeros[\"pares\"]:\n",
        "    print(numeros[\"pares\"][indice], end=\" \")\n",
        "\n",
        "print(f\"\\n\\nTotal de números pares: {numeros['total']}\")\n",
        "\n",
        "print(f\"¿Está el número 50 en la lista? {50 in numeros['pares'].values()}\")\n",
        "\n",
        "contador_2 = 0\n",
        "for valor in numeros[\"pares\"].values():\n",
        "    if valor == 2:\n",
        "        contador_2 += 1\n",
        "print(f\"¿Cuántas veces aparece el número 2? {contador_2}\")\n",
        "\n",
        "posicion_20 = None\n",
        "for indice, valor in numeros[\"pares\"].items():\n",
        "    if valor == 20:\n",
        "        posicion_20 = indice\n",
        "        break\n",
        "print(f\"Posición del número 20 en la lista: {posicion_20}\")"
      ],
      "metadata": {
        "colab": {
          "base_uri": "https://localhost:8080/"
        },
        "id": "fimsKRQrs9pE",
        "outputId": "e778cdba-daec-4d5a-9f4d-12b06004bb30"
      },
      "execution_count": 18,
      "outputs": [
        {
          "output_type": "stream",
          "name": "stdout",
          "text": [
            "Números pares del 1 al 100:\n",
            "2 4 6 8 10 12 14 16 18 20 22 24 26 28 30 32 34 36 38 40 42 44 46 48 50 52 54 56 58 60 62 64 66 68 70 72 74 76 78 80 82 84 86 88 90 92 94 96 98 100 \n",
            "\n",
            "Total de números pares: 50\n",
            "¿Está el número 50 en la lista? True\n",
            "¿Cuántas veces aparece el número 2? 1\n",
            "Posición del número 20 en la lista: 9\n"
          ]
        }
      ]
    },
    {
      "cell_type": "markdown",
      "source": [
        "#Ejercicio 22"
      ],
      "metadata": {
        "id": "9kOo-sz6tPRL"
      }
    },
    {
      "cell_type": "code",
      "source": [
        "numero_dict = {\n",
        "    \"valor\": 0,\n",
        "    \"texto\": \"\",\n",
        "    \"digitos\": {},\n",
        "    \"suma\": 0\n",
        "}\n",
        "\n",
        "numero_dict[\"valor\"] = int(input(\"Ingresa un número: \"))\n",
        "numero_dict[\"texto\"] = str(abs(numero_dict[\"valor\"]))\n",
        "\n",
        "for i, digito in enumerate(numero_dict[\"texto\"]):\n",
        "    numero_dict[\"digitos\"][i] = int(digito)\n",
        "\n",
        "for valor in numero_dict[\"digitos\"].values():\n",
        "    numero_dict[\"suma\"] += valor\n",
        "\n",
        "print(f\"La suma de los dígitos de {numero_dict['valor']} es: {numero_dict['suma']}\")"
      ],
      "metadata": {
        "colab": {
          "base_uri": "https://localhost:8080/"
        },
        "id": "FxOP3xjPtQcs",
        "outputId": "784b5732-4d6b-4c2f-b694-1a45cf2c70f9"
      },
      "execution_count": 19,
      "outputs": [
        {
          "output_type": "stream",
          "name": "stdout",
          "text": [
            "Ingresa un número: 12\n",
            "La suma de los dígitos de 12 es: 3\n"
          ]
        }
      ]
    },
    {
      "cell_type": "markdown",
      "source": [
        "#Ejercicio 23"
      ],
      "metadata": {
        "id": "sJA2-RbEtXsf"
      }
    },
    {
      "cell_type": "code",
      "source": [
        "primo = {\n",
        "    \"numero\": 0,\n",
        "    \"divisores\": {},\n",
        "    \"es_primo\": True\n",
        "}\n",
        "\n",
        "primo[\"numero\"] = int(input(\"Ingresa un número para verificar si es primo: \"))\n",
        "\n",
        "if primo[\"numero\"] <= 1:\n",
        "    primo[\"es_primo\"] = False\n",
        "else:\n",
        "    contador_divisores = 0\n",
        "    for i in range(2, int(primo[\"numero\"]**0.5) + 1):\n",
        "        if primo[\"numero\"] % i == 0:\n",
        "            primo[\"divisores\"][contador_divisores] = i\n",
        "            contador_divisores += 1\n",
        "\n",
        "    primo[\"es_primo\"] = len(primo[\"divisores\"]) == 0\n",
        "\n",
        "if primo[\"es_primo\"]:\n",
        "    print(f\"{primo['numero']} es un número primo.\")\n",
        "else:\n",
        "    print(f\"{primo['numero']} no es un número primo.\")"
      ],
      "metadata": {
        "colab": {
          "base_uri": "https://localhost:8080/"
        },
        "id": "JbTTK3detYop",
        "outputId": "9de19d25-ff57-4549-bb87-b7ef4ef97957"
      },
      "execution_count": 20,
      "outputs": [
        {
          "output_type": "stream",
          "name": "stdout",
          "text": [
            "Ingresa un número para verificar si es primo: 3\n",
            "3 es un número primo.\n"
          ]
        }
      ]
    },
    {
      "cell_type": "markdown",
      "source": [
        "#Ejercicio 24"
      ],
      "metadata": {
        "id": "odzYqrkNtckv"
      }
    },
    {
      "cell_type": "code",
      "source": [
        "triangulo = {\n",
        "    \"altura\": 0,\n",
        "    \"filas\": {}\n",
        "}\n",
        "\n",
        "triangulo[\"altura\"] = int(input(\"Ingresa la altura del triángulo: \"))\n",
        "\n",
        "for i in range(1, triangulo[\"altura\"] + 1):\n",
        "    triangulo[\"filas\"][i] = \"*\" * i\n",
        "\n",
        "for indice in triangulo[\"filas\"]:\n",
        "    print(triangulo[\"filas\"][indice])"
      ],
      "metadata": {
        "colab": {
          "base_uri": "https://localhost:8080/"
        },
        "id": "Ax7GB5gBtdx1",
        "outputId": "25a944dc-c565-49ca-e846-a2199e693a2e"
      },
      "execution_count": 21,
      "outputs": [
        {
          "output_type": "stream",
          "name": "stdout",
          "text": [
            "Ingresa la altura del triángulo: 13\n",
            "*\n",
            "**\n",
            "***\n",
            "****\n",
            "*****\n",
            "******\n",
            "*******\n",
            "********\n",
            "*********\n",
            "**********\n",
            "***********\n",
            "************\n",
            "*************\n"
          ]
        }
      ]
    },
    {
      "cell_type": "markdown",
      "source": [
        "#Ejercicio 25"
      ],
      "metadata": {
        "id": "dhOlE3LltohT"
      }
    },
    {
      "cell_type": "code",
      "source": [
        "potencia = {\n",
        "    \"base\": 0,\n",
        "    \"exponente\": 0,\n",
        "    \"factores\": {},\n",
        "    \"resultado\": 1\n",
        "}\n",
        "\n",
        "potencia[\"base\"] = float(input(\"Ingresa la base: \"))\n",
        "potencia[\"exponente\"] = int(input(\"Ingresa el exponente (entero): \"))\n",
        "\n",
        "if potencia[\"exponente\"] == 0:\n",
        "    potencia[\"resultado\"] = 1\n",
        "elif potencia[\"exponente\"] < 0:\n",
        "    for i in range(abs(potencia[\"exponente\"])):\n",
        "        potencia[\"factores\"][i] = potencia[\"base\"]\n",
        "\n",
        "    producto = 1\n",
        "    for i in potencia[\"factores\"]:\n",
        "        producto *= potencia[\"factores\"][i]\n",
        "\n",
        "    potencia[\"resultado\"] = 1 / producto\n",
        "else:\n",
        "    for i in range(potencia[\"exponente\"]):\n",
        "        potencia[\"factores\"][i] = potencia[\"base\"]\n",
        "\n",
        "    potencia[\"resultado\"] = 1\n",
        "    for i in potencia[\"factores\"]:\n",
        "        potencia[\"resultado\"] *= potencia[\"factores\"][i]\n",
        "\n",
        "print(f\"{potencia['base']} elevado a la {potencia['exponente']} = {potencia['resultado']}\")"
      ],
      "metadata": {
        "colab": {
          "base_uri": "https://localhost:8080/"
        },
        "id": "r7R3TXoktqIt",
        "outputId": "a39a3411-adf7-4139-93d7-29680387d20d"
      },
      "execution_count": 22,
      "outputs": [
        {
          "output_type": "stream",
          "name": "stdout",
          "text": [
            "Ingresa la base: 3\n",
            "Ingresa el exponente (entero): 4\n",
            "3.0 elevado a la 4 = 81.0\n"
          ]
        }
      ]
    }
  ]
}