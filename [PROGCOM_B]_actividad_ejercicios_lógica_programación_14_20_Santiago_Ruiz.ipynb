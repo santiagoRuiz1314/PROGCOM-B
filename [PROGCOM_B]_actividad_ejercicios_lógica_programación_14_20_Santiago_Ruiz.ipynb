{
  "nbformat": 4,
  "nbformat_minor": 0,
  "metadata": {
    "colab": {
      "provenance": []
    },
    "kernelspec": {
      "name": "python3",
      "display_name": "Python 3"
    },
    "language_info": {
      "name": "python"
    }
  },
  "cells": [
    {
      "cell_type": "markdown",
      "source": [
        "##Ejericio 14\n",
        "Escribe un programa que determine el día de la semana según un número (1-7)."
      ],
      "metadata": {
        "id": "fFC0hN8ABozh"
      }
    },
    {
      "cell_type": "code",
      "execution_count": 1,
      "metadata": {
        "colab": {
          "base_uri": "https://localhost:8080/"
        },
        "id": "gjuyx_1OBf_A",
        "outputId": "12307791-d949-4964-8b32-95337a815a77"
      },
      "outputs": [
        {
          "output_type": "stream",
          "name": "stdout",
          "text": [
            "Ingrese un número (1-7): 1\n",
            "Lunes\n"
          ]
        }
      ],
      "source": [
        "num = int(input(\"Ingrese un número (1-7): \"))\n",
        "dias = [\"Lunes\", \"Martes\", \"Miércoles\", \"Jueves\", \"Viernes\", \"Sábado\", \"Domingo\"]\n",
        "for i in range(1, 8):\n",
        "    if i == num:\n",
        "        print(dias[i-1])"
      ]
    },
    {
      "cell_type": "code",
      "source": [
        "num = int(input(\"Ingrese un número (1-7): \"))\n",
        "dias = [\"Lunes\", \"Martes\", \"Miércoles\", \"Jueves\", \"Viernes\", \"Sábado\", \"Domingo\"]\n",
        "i = 1\n",
        "while i <= 7:\n",
        "    if i == num:\n",
        "        print(dias[i-1])\n",
        "    i += 1"
      ],
      "metadata": {
        "colab": {
          "base_uri": "https://localhost:8080/"
        },
        "id": "lqvR2EfZB-Wy",
        "outputId": "c22199b5-f5a7-43ca-e87f-59cae3f7c7a8"
      },
      "execution_count": 2,
      "outputs": [
        {
          "output_type": "stream",
          "name": "stdout",
          "text": [
            "Ingrese un número (1-7): 3\n",
            "Miércoles\n"
          ]
        }
      ]
    },
    {
      "cell_type": "markdown",
      "source": [
        "##Ejercicio 15\n",
        "Desarrolla un programa que valide si tres números pueden formar un triángulo y de qué tipo es."
      ],
      "metadata": {
        "id": "xSMEXnKCCA0f"
      }
    },
    {
      "cell_type": "code",
      "source": [
        "a = float(input(\"Ingrese primer lado: \"))\n",
        "b = float(input(\"Ingrese segundo lado: \"))\n",
        "c = float(input(\"Ingrese tercer lado: \"))\n",
        "lados = [a, b, c]\n",
        "valido = True\n",
        "for i in range(3):\n",
        "    if lados[i] >= lados[(i+1)%3] + lados[(i+2)%3]:\n",
        "        valido = False\n",
        "if valido:\n",
        "    for i in range(1):\n",
        "        if a == b == c:\n",
        "            print(\"Triángulo Equilátero\")\n",
        "        elif a == b or b == c or a == c:\n",
        "            print(\"Triángulo Isósceles\")\n",
        "        else:\n",
        "            print(\"Triángulo Escaleno\")\n",
        "else:\n",
        "    print(\"No es un triángulo válido\")"
      ],
      "metadata": {
        "colab": {
          "base_uri": "https://localhost:8080/"
        },
        "id": "nw-hZZOTCDEC",
        "outputId": "026743d3-1169-43e6-e3bf-d69ed46127dd"
      },
      "execution_count": 4,
      "outputs": [
        {
          "output_type": "stream",
          "name": "stdout",
          "text": [
            "Ingrese primer lado: 4\n",
            "Ingrese segundo lado: 4\n",
            "Ingrese tercer lado: 4\n",
            "Triángulo Equilátero\n"
          ]
        }
      ]
    },
    {
      "cell_type": "code",
      "source": [
        "a = float(input(\"Ingrese primer lado: \"))\n",
        "b = float(input(\"Ingrese segundo lado: \"))\n",
        "c = float(input(\"Ingrese tercer lado: \"))\n",
        "lados = [a, b, c]\n",
        "i = 0\n",
        "valido = True\n",
        "while i < 3:\n",
        "    if lados[i] >= lados[(i+1)%3] + lados[(i+2)%3]:\n",
        "        valido = False\n",
        "    i += 1\n",
        "if valido:\n",
        "    i = 0\n",
        "    while i < 1:\n",
        "        if a == b == c:\n",
        "            print(\"Triángulo Equilátero\")\n",
        "        elif a == b or b == c or a == c:\n",
        "            print(\"Triángulo Isósceles\")\n",
        "        else:\n",
        "            print(\"Triángulo Escaleno\")\n",
        "        i += 1\n",
        "else:\n",
        "    print(\"No es un triángulo válido\")"
      ],
      "metadata": {
        "colab": {
          "base_uri": "https://localhost:8080/"
        },
        "id": "ypYM1qCICRqQ",
        "outputId": "5dbe557a-03c9-4d28-e891-3ed88983ad10"
      },
      "execution_count": 5,
      "outputs": [
        {
          "output_type": "stream",
          "name": "stdout",
          "text": [
            "Ingrese primer lado: 4\n",
            "Ingrese segundo lado: 4\n",
            "Ingrese tercer lado: 3\n",
            "Triángulo Isósceles\n"
          ]
        }
      ]
    },
    {
      "cell_type": "markdown",
      "source": [
        "##Ejercicio 16\n",
        "Crea un programa que muestre la tabla de multiplicar de un número hasta el 10."
      ],
      "metadata": {
        "id": "F6E9oQJbCV4x"
      }
    },
    {
      "cell_type": "code",
      "source": [
        "num = int(input(\"ingrese un numero: \"))\n",
        "for f in range(1,11,1):\n",
        "  print(f\"{num} x {f} ={num*f}\")"
      ],
      "metadata": {
        "colab": {
          "base_uri": "https://localhost:8080/"
        },
        "id": "QY7Zt7sOCgFI",
        "outputId": "3afe079b-7222-40e5-c42b-d081ad5524ad"
      },
      "execution_count": 6,
      "outputs": [
        {
          "output_type": "stream",
          "name": "stdout",
          "text": [
            "ingrese un numero: 2\n",
            "2 x 1 =2\n",
            "2 x 2 =4\n",
            "2 x 3 =6\n",
            "2 x 4 =8\n",
            "2 x 5 =10\n",
            "2 x 6 =12\n",
            "2 x 7 =14\n",
            "2 x 8 =16\n",
            "2 x 9 =18\n",
            "2 x 10 =20\n"
          ]
        }
      ]
    },
    {
      "cell_type": "code",
      "source": [
        "num = int(input(\"Ingrese un número: \"))\n",
        "i = 1\n",
        "while i <= 10:\n",
        "    print(f\"{num} x {i} = {num*i}\")\n",
        "    i += 1"
      ],
      "metadata": {
        "colab": {
          "base_uri": "https://localhost:8080/"
        },
        "id": "wzhHnElWCpQ2",
        "outputId": "feae4271-2d51-462d-f1ff-c3e221838b2d"
      },
      "execution_count": 8,
      "outputs": [
        {
          "output_type": "stream",
          "name": "stdout",
          "text": [
            "Ingrese un número: 2\n",
            "2 x 1 = 2\n",
            "2 x 2 = 4\n",
            "2 x 3 = 6\n",
            "2 x 4 = 8\n",
            "2 x 5 = 10\n",
            "2 x 6 = 12\n",
            "2 x 7 = 14\n",
            "2 x 8 = 16\n",
            "2 x 9 = 18\n",
            "2 x 10 = 20\n"
          ]
        }
      ]
    },
    {
      "cell_type": "markdown",
      "source": [
        "##Ejercicio 17\n",
        " Escribe un programa que calcule la suma de números naturales hasta n."
      ],
      "metadata": {
        "id": "RfQZf-S2C9-r"
      }
    },
    {
      "cell_type": "code",
      "source": [
        "n = int(input(\"Ingrese un número: \"))\n",
        "suma = 0\n",
        "for i in range(1, n + 1):\n",
        "    suma += i\n",
        "print(f\"La suma de los números del 1 al {n} es: {suma}\")"
      ],
      "metadata": {
        "colab": {
          "base_uri": "https://localhost:8080/"
        },
        "id": "6xhp_FakDCi3",
        "outputId": "7ad2dabe-84f7-434f-d25a-275c197e6966"
      },
      "execution_count": 10,
      "outputs": [
        {
          "output_type": "stream",
          "name": "stdout",
          "text": [
            "Ingrese un número: 3\n",
            "La suma de los números del 1 al 3 es: 6\n"
          ]
        }
      ]
    },
    {
      "cell_type": "code",
      "source": [
        "n = int(input(\"Ingrese un número: \"))\n",
        "suma = 0\n",
        "i = 1\n",
        "while i <= n:\n",
        "    suma += i\n",
        "    i += 1\n",
        "print(f\"La suma de los números del 1 al {n} es: {suma}\")"
      ],
      "metadata": {
        "colab": {
          "base_uri": "https://localhost:8080/"
        },
        "id": "ob5A9UUqDKMx",
        "outputId": "a558b30f-a76f-404f-8e94-a206ce7706aa"
      },
      "execution_count": 11,
      "outputs": [
        {
          "output_type": "stream",
          "name": "stdout",
          "text": [
            "Ingrese un número: 3\n",
            "La suma de los números del 1 al 3 es: 6\n"
          ]
        }
      ]
    },
    {
      "cell_type": "markdown",
      "source": [
        "## Ejercicio 18\n",
        "Desarrolla un programa que calcule el factorial de un número. Recuerda que el factorial de 0 es 1 y no existen factoriales negativos."
      ],
      "metadata": {
        "id": "S2kwD-kVDNRL"
      }
    },
    {
      "cell_type": "code",
      "source": [
        "num = int(input(\"Ingrese un número: \"))\n",
        "if num < 0:\n",
        "    print(\"No existen factoriales de números negativos\")\n",
        "else:\n",
        "    factorial = 1\n",
        "    for i in range(1, num + 1):\n",
        "        factorial *= i\n",
        "    print(f\"El factorial de {num} es: {factorial}\")"
      ],
      "metadata": {
        "colab": {
          "base_uri": "https://localhost:8080/"
        },
        "id": "q7WNETXMDfyH",
        "outputId": "fb580e6a-de8d-4111-cc55-916b1ff989fa"
      },
      "execution_count": 12,
      "outputs": [
        {
          "output_type": "stream",
          "name": "stdout",
          "text": [
            "Ingrese un número: 4\n",
            "El factorial de 4 es: 24\n"
          ]
        }
      ]
    },
    {
      "cell_type": "code",
      "source": [
        "num = int(input(\"Ingrese un número: \"))\n",
        "if num < 0:\n",
        "    print(\"No existen factoriales de números negativos\")\n",
        "else:\n",
        "    factorial = 1\n",
        "    i = 1\n",
        "    while i <= num:\n",
        "        factorial *= i\n",
        "        i += 1\n",
        "    print(f\"El factorial de {num} es: {factorial}\")"
      ],
      "metadata": {
        "colab": {
          "base_uri": "https://localhost:8080/"
        },
        "id": "MhHctSN2DjGV",
        "outputId": "7bdf1aef-9a48-46f3-9d60-9df3b4bb2c7c"
      },
      "execution_count": 14,
      "outputs": [
        {
          "output_type": "stream",
          "name": "stdout",
          "text": [
            "Ingrese un número: 4\n",
            "El factorial de 4 es: 24\n"
          ]
        }
      ]
    },
    {
      "cell_type": "markdown",
      "source": [
        "##Ejercicio 19\n",
        "Crea un programa que muestre los primeros n números de la serie Fibonacci."
      ],
      "metadata": {
        "id": "EIIF73pvDmkZ"
      }
    },
    {
      "cell_type": "code",
      "source": [
        "n = int(input(\"Ingrese cantidad de números Fibonacci a mostrar: \"))\n",
        "a, b = 0, 1\n",
        "print(a, end=\" \")\n",
        "for i in range(n - 1):\n",
        "    print(b, end=\" \")\n",
        "    a, b = b, a + b"
      ],
      "metadata": {
        "colab": {
          "base_uri": "https://localhost:8080/"
        },
        "id": "yjMWobt9DrUA",
        "outputId": "3dc75931-3b8e-41f2-85fe-fffa777080e6"
      },
      "execution_count": 15,
      "outputs": [
        {
          "output_type": "stream",
          "name": "stdout",
          "text": [
            "Ingrese cantidad de números Fibonacci a mostrar: 3\n",
            "0 1 1 "
          ]
        }
      ]
    },
    {
      "cell_type": "code",
      "source": [
        "n = int(input(\"Ingrese cantidad de números Fibonacci a mostrar: \"))\n",
        "a, b = 0, 1\n",
        "i = 1\n",
        "print(a, end=\" \")\n",
        "while i < n:\n",
        "    print(b, end=\" \")\n",
        "    a, b = b, a + b\n",
        "    i += 1"
      ],
      "metadata": {
        "colab": {
          "base_uri": "https://localhost:8080/"
        },
        "id": "Etx8QyM8DvxQ",
        "outputId": "13e1a2e8-ea6e-44ea-cb25-99e7dbe6d20a"
      },
      "execution_count": 17,
      "outputs": [
        {
          "output_type": "stream",
          "name": "stdout",
          "text": [
            "Ingrese cantidad de números Fibonacci a mostrar: 3\n",
            "0 1 1 "
          ]
        }
      ]
    },
    {
      "cell_type": "markdown",
      "source": [
        "##Ejercicio 20\n",
        "Escribe un programa que adivine entre un conjunto de diez colores definidos por el usuario, con un máximo de 10 intentos."
      ],
      "metadata": {
        "id": "oej4PXuTD15t"
      }
    },
    {
      "cell_type": "code",
      "source": [
        "colores = [\"rojo\", \"azul\", \"verde\", \"amarillo\", \"negro\", \"blanco\", \"morado\", \"naranja\", \"gris\", \"rosa\"]\n",
        "print(\"Estoy pensando en uno de estos colores:\", colores)\n",
        "color_elegido = \"negro\"\n",
        "adivinado = False\n",
        "for intento in range(1, 11):\n",
        "    respuesta = input(f\"Intento {intento}. ¿Qué color estoy pensando? \").lower()\n",
        "    if respuesta == color_elegido:\n",
        "        print(f\"¡Correcto! Lo adivinaste en {intento} intentos\")\n",
        "        adivinado = True\n",
        "        break\n",
        "    else:\n",
        "        print(\"Incorrecto, intenta de nuevo\")\n",
        "if not adivinado:\n",
        "    print(f\"Se acabaron los intentos. El color era {color_elegido}\")"
      ],
      "metadata": {
        "colab": {
          "base_uri": "https://localhost:8080/"
        },
        "id": "xrHyEy8uD3Kd",
        "outputId": "502a0600-1883-4093-d271-7dad11417fe4"
      },
      "execution_count": 20,
      "outputs": [
        {
          "output_type": "stream",
          "name": "stdout",
          "text": [
            "Estoy pensando en uno de estos colores: ['rojo', 'azul', 'verde', 'amarillo', 'negro', 'blanco', 'morado', 'naranja', 'gris', 'rosa']\n",
            "Intento 1. ¿Qué color estoy pensando? azul\n",
            "Incorrecto, intenta de nuevo\n",
            "Intento 2. ¿Qué color estoy pensando? verde\n",
            "Incorrecto, intenta de nuevo\n",
            "Intento 3. ¿Qué color estoy pensando? amarillo\n",
            "Incorrecto, intenta de nuevo\n",
            "Intento 4. ¿Qué color estoy pensando? negro\n",
            "¡Correcto! Lo adivinaste en 4 intentos\n"
          ]
        }
      ]
    },
    {
      "cell_type": "code",
      "source": [
        "colores = [\"rojo\", \"azul\", \"verde\", \"amarillo\", \"negro\", \"blanco\", \"morado\", \"naranja\", \"gris\", \"rosa\"]\n",
        "print(\"Estoy pensando en uno de estos colores:\", colores)\n",
        "color_elegido = \"negro\"\n",
        "intentos = 1\n",
        "adivinado = False\n",
        "while intentos <= 10:\n",
        "    respuesta = input(f\"Intento {intentos}. ¿Qué color estoy pensando? \").lower()\n",
        "    if respuesta == color_elegido:\n",
        "        print(f\"¡Correcto! Lo adivinaste en {intentos} intentos\")\n",
        "        adivinado = True\n",
        "        break\n",
        "    else:\n",
        "        print(\"Incorrecto, intenta de nuevo\")\n",
        "    intentos += 1\n",
        "if not adivinado:\n",
        "    print(f\"Se acabaron los intentos. El color era {color_elegido}\")"
      ],
      "metadata": {
        "colab": {
          "base_uri": "https://localhost:8080/"
        },
        "id": "9sR2zzRFEPqe",
        "outputId": "46967c35-4d54-4bcf-924a-ca94c02ef058"
      },
      "execution_count": 21,
      "outputs": [
        {
          "output_type": "stream",
          "name": "stdout",
          "text": [
            "Estoy pensando en uno de estos colores: ['rojo', 'azul', 'verde', 'amarillo', 'negro', 'blanco', 'morado', 'naranja', 'gris', 'rosa']\n",
            "Intento 1. ¿Qué color estoy pensando? morado\n",
            "Incorrecto, intenta de nuevo\n",
            "Intento 2. ¿Qué color estoy pensando? rosa\n",
            "Incorrecto, intenta de nuevo\n",
            "Intento 3. ¿Qué color estoy pensando? azul\n",
            "Incorrecto, intenta de nuevo\n",
            "Intento 4. ¿Qué color estoy pensando? rojo\n",
            "Incorrecto, intenta de nuevo\n",
            "Intento 5. ¿Qué color estoy pensando? verde\n",
            "Incorrecto, intenta de nuevo\n",
            "Intento 6. ¿Qué color estoy pensando? amarillo\n",
            "Incorrecto, intenta de nuevo\n",
            "Intento 7. ¿Qué color estoy pensando? blanco\n",
            "Incorrecto, intenta de nuevo\n",
            "Intento 8. ¿Qué color estoy pensando? negro\n",
            "¡Correcto! Lo adivinaste en 8 intentos\n"
          ]
        }
      ]
    }
  ]
}