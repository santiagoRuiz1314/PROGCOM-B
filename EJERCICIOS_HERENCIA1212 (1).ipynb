{
  "nbformat": 4,
  "nbformat_minor": 0,
  "metadata": {
    "colab": {
      "provenance": []
    },
    "kernelspec": {
      "name": "python3",
      "display_name": "Python 3"
    },
    "language_info": {
      "name": "python"
    }
  },
  "cells": [
    {
      "cell_type": "markdown",
      "source": [
        "Santiago Steven Ruiz\n",
        "U00181189"
      ],
      "metadata": {
        "id": "upF9wqGB7gqG"
      }
    },
    {
      "cell_type": "markdown",
      "source": [
        "1. Crea una clase base Animal con un método que imprima \"Este es un animal\".Luego crea una clase Perro que herede de Animal sin añadir ni modificar nada Instancia un objeto Perro y llama al método heredado."
      ],
      "metadata": {
        "id": "H_t5TD8S3mTi"
      }
    },
    {
      "cell_type": "code",
      "execution_count": null,
      "metadata": {
        "colab": {
          "base_uri": "https://localhost:8080/"
        },
        "id": "SA9c9NoC3hNM",
        "outputId": "0efed384-4e2b-45d4-d1e7-87721b8f8168"
      },
      "outputs": [
        {
          "output_type": "stream",
          "name": "stdout",
          "text": [
            "Este es un animal\n"
          ]
        }
      ],
      "source": [
        "#PHYTON\n",
        "# Clase base\n",
        "class Animal:\n",
        "    def mensaje(self):\n",
        "        print(\"Este es un animal\")\n",
        "\n",
        "# Clase derivada\n",
        "class Perro(Animal):\n",
        "    pass\n",
        "\n",
        "# Instancia\n",
        "mi_perro = Perro()\n",
        "mi_perro.mensaje()\n"
      ]
    },
    {
      "cell_type": "code",
      "source": [
        "#JAVA\n",
        "// Clase base\n",
        "class Animal {\n",
        "    void mensaje() {\n",
        "        System.out.println(\"Este es un animal\");\n",
        "    }\n",
        "}\n",
        "\n",
        "// Clase derivada\n",
        "class Perro extends Animal {\n",
        "    // No se añade nada\n",
        "}\n",
        "\n",
        "public class Main {\n",
        "    public static void main(String[] args) {\n",
        "        Perro miPerro = new Perro();\n",
        "        miPerro.mensaje();\n",
        "    }\n",
        "}\n"
      ],
      "metadata": {
        "id": "I8U41Gvb3l8h"
      },
      "execution_count": null,
      "outputs": []
    },
    {
      "cell_type": "markdown",
      "source": [
        "2. Crea una clase Persona con un atributo nombre definido en el constructor. Luego crea una clase Estudiante que herede de Persona. Instancia un objeto de Estudiante e imprime su nombre."
      ],
      "metadata": {
        "id": "Yp8OdTB-4ACJ"
      }
    },
    {
      "cell_type": "code",
      "source": [
        "# PHYTON\n",
        "# Clase base\n",
        "class Persona:\n",
        "    def __init__(self, nombre):\n",
        "        self.nombre = nombre\n",
        "\n",
        "# Clase derivada\n",
        "class Estudiante(Persona):\n",
        "    pass\n",
        "\n",
        "# Instancia\n",
        "est = Estudiante(\"SILVIA\")\n",
        "print(est.nombre)\n"
      ],
      "metadata": {
        "colab": {
          "base_uri": "https://localhost:8080/"
        },
        "id": "IbzdJn5A4JpR",
        "outputId": "febdefbe-ff7c-4b11-dab6-303ad3197eb8"
      },
      "execution_count": null,
      "outputs": [
        {
          "output_type": "stream",
          "name": "stdout",
          "text": [
            "SILVIA\n"
          ]
        }
      ]
    },
    {
      "cell_type": "code",
      "source": [
        "# JAVA\n",
        "// Clase base\n",
        "class Persona {\n",
        "    String nombre;\n",
        "\n",
        "    public Persona(String nombre) {\n",
        "        this.nombre = nombre;\n",
        "    }\n",
        "}\n",
        "\n",
        "// Clase derivada\n",
        "class Estudiante extends Persona {\n",
        "    public Estudiante(String nombre) {\n",
        "        super(nombre);\n",
        "    }\n",
        "}\n",
        "\n",
        "public class Main {\n",
        "    public static void main(String[] args) {\n",
        "        Estudiante est = new Estudiante(\"Carlos\");\n",
        "        System.out.println(est.nombre);\n",
        "    }\n",
        "}\n"
      ],
      "metadata": {
        "id": "2nEVaAig4ZQI"
      },
      "execution_count": null,
      "outputs": []
    },
    {
      "cell_type": "markdown",
      "source": [
        " 3. Crea una clase Vehiculo con un método arrancar() que imprima \"Vehículo encendido\". Luego crea una clase Moto que herede de Vehiculo y sobrescriba el método para imprimir \"Moto encendida\". Instancia una moto y llama al método."
      ],
      "metadata": {
        "id": "n1ac3WXr4cC4"
      }
    },
    {
      "cell_type": "code",
      "source": [
        "# Python\n",
        "class Vehiculo:\n",
        "    def arrancar(self):\n",
        "        print(\"Vehículo encendido\")\n",
        "\n",
        "class Moto(Vehiculo):\n",
        "    def arrancar(self):\n",
        "        print(\"Moto encendida\")\n",
        "\n",
        "m = Moto()\n",
        "m.arrancar()\n"
      ],
      "metadata": {
        "colab": {
          "base_uri": "https://localhost:8080/"
        },
        "id": "8rQb0ujU5KwX",
        "outputId": "c52fbe2b-75bf-4386-d180-a25a2d6b5b3a"
      },
      "execution_count": null,
      "outputs": [
        {
          "output_type": "stream",
          "name": "stdout",
          "text": [
            "Moto encendida\n"
          ]
        }
      ]
    },
    {
      "cell_type": "code",
      "source": [
        "// Java\n",
        "class Vehiculo {\n",
        "    void arrancar() {\n",
        "        System.out.println(\"Vehículo encendido\");\n",
        "    }\n",
        "}\n",
        "\n",
        "class Moto extends Vehiculo {\n",
        "    @Override\n",
        "    void arrancar() {\n",
        "        System.out.println(\"Moto encendida\");\n",
        "    }\n",
        "}\n",
        "\n",
        "public class Main {\n",
        "    public static void main(String[] args) {\n",
        "        Moto m = new Moto();\n",
        "        m.arrancar();\n",
        "    }\n",
        "}\n"
      ],
      "metadata": {
        "id": "m6cN43mI5XFQ"
      },
      "execution_count": null,
      "outputs": []
    },
    {
      "cell_type": "markdown",
      "source": [
        "4. Crea una clase Empleado con un método trabajar() que imprima un mensaje genérico. Luego crea dos clases: Gerente y Obrero, ambas heredando de Empleado. Cada una debe sobrescribir el método trabajar() con un mensaje diferente. Instancia ambas clases y prueba el método."
      ],
      "metadata": {
        "id": "uiMh9YQB5eaP"
      }
    },
    {
      "cell_type": "code",
      "source": [
        "# Python\n",
        "class Empleado:\n",
        "    def trabajar(self):\n",
        "        print(\"Empleado trabajando\")\n",
        "\n",
        "class Gerente(Empleado):\n",
        "    def trabajar(self):\n",
        "        print(\"Gerente gestionando\")\n",
        "\n",
        "class Obrero(Empleado):\n",
        "    def trabajar(self):\n",
        "        print(\"Obrero trabajando duro\")\n",
        "\n",
        "g = Gerente()\n",
        "o = Obrero()\n",
        "g.trabajar()\n",
        "o.trabajar()\n"
      ],
      "metadata": {
        "colab": {
          "base_uri": "https://localhost:8080/"
        },
        "id": "TadIYPf15oUH",
        "outputId": "2bbbb1f3-4378-4593-da9a-de7a7e4b6023"
      },
      "execution_count": null,
      "outputs": [
        {
          "output_type": "stream",
          "name": "stdout",
          "text": [
            "Gerente gestionando\n",
            "Obrero trabajando duro\n"
          ]
        }
      ]
    },
    {
      "cell_type": "code",
      "source": [
        "// Java\n",
        "class Empleado {\n",
        "    void trabajar() {\n",
        "        System.out.println(\"Empleado trabajando\");\n",
        "    }\n",
        "}\n",
        "\n",
        "class Gerente extends Empleado {\n",
        "    @Override\n",
        "    void trabajar() {\n",
        "        System.out.println(\"Gerente gestionando\");\n",
        "    }\n",
        "}\n",
        "\n",
        "class Obrero extends Empleado {\n",
        "    @Override\n",
        "    void trabajar() {\n",
        "        System.out.println(\"Obrero trabajando duro\");\n",
        "    }\n",
        "}\n",
        "\n",
        "public class Main {\n",
        "    public static void main(String[] args) {\n",
        "        Gerente g = new Gerente();\n",
        "        Obrero o = new Obrero();\n",
        "        g.trabajar();\n",
        "        o.trabajar();\n",
        "    }\n",
        "}\n"
      ],
      "metadata": {
        "id": "l3Y4xO5-5rCX"
      },
      "execution_count": null,
      "outputs": []
    },
    {
      "cell_type": "markdown",
      "source": [
        " 5. Crea una clase Producto con un constructor que reciba nombre y precio. Luego crea una clase Libro que herede de Producto y use el constructor del padre para inicializar sus atributos. Muestra la información desde un objeto de Libro."
      ],
      "metadata": {
        "id": "LR2RP0ZV5s-_"
      }
    },
    {
      "cell_type": "code",
      "source": [
        "# Python\n",
        "class Producto:\n",
        "    def __init__(self, nombre, precio):\n",
        "        self.nombre = nombre\n",
        "        self.precio = precio\n",
        "\n",
        "class Libro(Producto):\n",
        "    pass\n",
        "\n",
        "libro = Libro(\"1984\", 15.99)\n",
        "print(f\"Nombre: {libro.nombre}, Precio: {libro.precio}\")\n"
      ],
      "metadata": {
        "colab": {
          "base_uri": "https://localhost:8080/"
        },
        "id": "vLbOkP965xXL",
        "outputId": "a4035d47-4790-4a96-954b-6c7e1e5399d3"
      },
      "execution_count": null,
      "outputs": [
        {
          "output_type": "stream",
          "name": "stdout",
          "text": [
            "Nombre: 1984, Precio: 15.99\n"
          ]
        }
      ]
    },
    {
      "cell_type": "code",
      "source": [
        "// Java\n",
        "class Producto {\n",
        "    String nombre;\n",
        "    double precio;\n",
        "\n",
        "    public Producto(String nombre, double precio) {\n",
        "        this.nombre = nombre;\n",
        "        this.precio = precio;\n",
        "    }\n",
        "}\n",
        "\n",
        "class Libro extends Producto {\n",
        "    public Libro(String nombre, double precio) {\n",
        "        super(nombre, precio);\n",
        "    }\n",
        "}\n",
        "\n",
        "public class Main {\n",
        "    public static void main(String[] args) {\n",
        "        Libro libro = new Libro(\"1984\", 15.99);\n",
        "        System.out.println(\"Nombre: \" + libro.nombre + \", Precio: \" + libro.precio);\n",
        "    }\n",
        "}\n"
      ],
      "metadata": {
        "id": "8dth-CKl50JU"
      },
      "execution_count": null,
      "outputs": []
    },
    {
      "cell_type": "markdown",
      "source": [
        " 6. Crea una clase Persona con un método saludar() que imprima \"Hola\". Luego crea una clase Profesor que herede de Persona y tenga además un método enseñar() que imprima \"Estoy enseñando\". Instancia un Profesor y llama a ambos métodos."
      ],
      "metadata": {
        "id": "FVEGoIYy517f"
      }
    },
    {
      "cell_type": "code",
      "source": [
        "# Python\n",
        "class Persona:\n",
        "    def saludar(self):\n",
        "        print(\"Hola\")\n",
        "\n",
        "class Profesor(Persona):\n",
        "    def enseñar(self):\n",
        "        print(\"Estoy enseñando\")\n",
        "\n",
        "p = Profesor()\n",
        "p.saludar()\n",
        "p.enseñar()\n"
      ],
      "metadata": {
        "colab": {
          "base_uri": "https://localhost:8080/"
        },
        "id": "-DhyqOj156Pf",
        "outputId": "4e1451ea-976b-448c-a24c-f7e4bbf311f7"
      },
      "execution_count": null,
      "outputs": [
        {
          "output_type": "stream",
          "name": "stdout",
          "text": [
            "Hola\n",
            "Estoy enseñando\n"
          ]
        }
      ]
    },
    {
      "cell_type": "code",
      "source": [
        "// Java\n",
        "class Persona {\n",
        "    void saludar() {\n",
        "        System.out.println(\"Hola\");\n",
        "    }\n",
        "}\n",
        "\n",
        "class Profesor extends Persona {\n",
        "    void enseñar() {\n",
        "        System.out.println(\"Estoy enseñando\");\n",
        "    }\n",
        "}\n",
        "\n",
        "public class Main {\n",
        "    public static void main(String[] args) {\n",
        "        Profesor p = new Profesor();\n",
        "        p.saludar();\n",
        "        p.enseñar();\n",
        "    }\n",
        "}\n"
      ],
      "metadata": {
        "id": "_qROsRDT6Agv"
      },
      "execution_count": null,
      "outputs": []
    },
    {
      "cell_type": "markdown",
      "source": [
        "7. Crea una clase Animal con un método sonido() que imprima \"Sonido genérico\". Luego crea una clase Gato que sobrescriba el método y dentro de él invoque el método original del padre usando super. El resultado debe mostrar ambos mensajes."
      ],
      "metadata": {
        "id": "W_wTlIvk6CQq"
      }
    },
    {
      "cell_type": "code",
      "source": [
        "# Python\n",
        "class Animal:\n",
        "    def sonido(self):\n",
        "        print(\"Sonido genérico\")\n",
        "\n",
        "class Gato(Animal):\n",
        "    def sonido(self):\n",
        "        super().sonido()\n",
        "        print(\"Miau\")\n",
        "\n",
        "g = Gato()\n",
        "g.sonido()\n"
      ],
      "metadata": {
        "colab": {
          "base_uri": "https://localhost:8080/"
        },
        "id": "8LA8MAYs6Gpf",
        "outputId": "70d28ef4-9695-48f5-b410-ad7c66191100"
      },
      "execution_count": null,
      "outputs": [
        {
          "output_type": "stream",
          "name": "stdout",
          "text": [
            "Sonido genérico\n",
            "Miau\n"
          ]
        }
      ]
    },
    {
      "cell_type": "code",
      "source": [
        "// Java\n",
        "class Animal {\n",
        "    void sonido() {\n",
        "        System.out.println(\"Sonido genérico\");\n",
        "    }\n",
        "}\n",
        "\n",
        "class Gato extends Animal {\n",
        "    @Override\n",
        "    void sonido() {\n",
        "        super.sonido();\n",
        "        System.out.println(\"Miau\");\n",
        "    }\n",
        "}\n",
        "\n",
        "public class Main {\n",
        "    public static void main(String[] args) {\n",
        "        Gato g = new Gato();\n",
        "        g.sonido();\n",
        "    }\n",
        "}\n"
      ],
      "metadata": {
        "id": "iwqo2rGC6NVy"
      },
      "execution_count": null,
      "outputs": []
    },
    {
      "cell_type": "markdown",
      "source": [
        " 8. Crea una clase Computadora con un método encender(). Luego crea una clase Portatil que herede de Computadora sin añadir ni modificar nada. Instancia un objeto Portatil y llama al método heredado."
      ],
      "metadata": {
        "id": "P71kAHh_6UoO"
      }
    },
    {
      "cell_type": "code",
      "source": [
        "# Python\n",
        "class Computadora:\n",
        "    def encender(self):\n",
        "        print(\"Computadora encendida\")\n",
        "\n",
        "class Portatil(Computadora):\n",
        "    pass\n",
        "\n",
        "p = Portatil()\n",
        "p.encender()\n"
      ],
      "metadata": {
        "colab": {
          "base_uri": "https://localhost:8080/"
        },
        "id": "yzffUU7U6a2Z",
        "outputId": "74712735-c7ec-4bdc-e250-7b5ff188a2d9"
      },
      "execution_count": null,
      "outputs": [
        {
          "output_type": "stream",
          "name": "stdout",
          "text": [
            "Computadora encendida\n"
          ]
        }
      ]
    },
    {
      "cell_type": "code",
      "source": [
        "// Java\n",
        "class Computadora {\n",
        "    void encender() {\n",
        "        System.out.println(\"Computadora encendida\");\n",
        "    }\n",
        "}\n",
        "\n",
        "class Portatil extends Computadora {}\n",
        "\n",
        "public class Main {\n",
        "    public static void main(String[] args) {\n",
        "        Portatil p = new Portatil();\n",
        "        p.encender();\n",
        "    }\n",
        "}\n"
      ],
      "metadata": {
        "id": "BjDfS5PA6kCH"
      },
      "execution_count": null,
      "outputs": []
    },
    {
      "cell_type": "markdown",
      "source": [
        " 9. Crea una clase Cuenta con un atributo saldo inicializado desde el constructor. Luego crea una clase CuentaAhorro que herede de Cuenta y no tenga atributos propios. Muestra el saldo desde un objeto de la clase hija."
      ],
      "metadata": {
        "id": "IHAGSAze6mSa"
      }
    },
    {
      "cell_type": "code",
      "source": [
        "# Python\n",
        "class Cuenta:\n",
        "    def __init__(self, saldo):\n",
        "        self.saldo = saldo\n",
        "\n",
        "class CuentaAhorro(Cuenta):\n",
        "    pass\n",
        "\n",
        "c = CuentaAhorro(1550)\n",
        "print(f\"Saldo: {c.saldo}\")\n"
      ],
      "metadata": {
        "colab": {
          "base_uri": "https://localhost:8080/"
        },
        "id": "5ZlUfGZO6rWO",
        "outputId": "6cf2489b-4f17-4050-8167-3a8d98a95fd9"
      },
      "execution_count": null,
      "outputs": [
        {
          "output_type": "stream",
          "name": "stdout",
          "text": [
            "Saldo: 1550\n"
          ]
        }
      ]
    },
    {
      "cell_type": "code",
      "source": [
        "// Java\n",
        "class Cuenta {\n",
        "    double saldo;\n",
        "\n",
        "    public Cuenta(double saldo) {\n",
        "        this.saldo = saldo;\n",
        "    }\n",
        "}\n",
        "\n",
        "class CuentaAhorro extends Cuenta {\n",
        "    public CuentaAhorro(double saldo) {\n",
        "        super(saldo);\n",
        "    }\n",
        "}\n",
        "\n",
        "public class Main {\n",
        "    public static void main(String[] args) {\n",
        "        CuentaAhorro c = new CuentaAhorro(1550);\n",
        "        System.out.println(\"Saldo: \" + c.saldo);\n",
        "    }\n",
        "}\n"
      ],
      "metadata": {
        "id": "9QR8qFKb6xTW"
      },
      "execution_count": null,
      "outputs": []
    },
    {
      "cell_type": "markdown",
      "source": [
        "10. Crea una clase SerVivo con un método respirar() que imprima \"Respirando...\". Luego crea una clase Humano que herede de SerVivo. Sin añadir ni sobrescribir nada, instancia un Humano y llama al método respirar()."
      ],
      "metadata": {
        "id": "hLzqXzjz6zHx"
      }
    },
    {
      "cell_type": "code",
      "source": [
        "# Python\n",
        "class SerVivo:\n",
        "    def respirar(self):\n",
        "        print(\"Respirando...\")\n",
        "\n",
        "class Humano(SerVivo):\n",
        "    pass\n",
        "\n",
        "h = Humano()\n",
        "h.respirar()\n"
      ],
      "metadata": {
        "colab": {
          "base_uri": "https://localhost:8080/"
        },
        "id": "J3LoOdr97AeW",
        "outputId": "a13de711-2ff2-470a-80dd-7ca2a94d6fc3"
      },
      "execution_count": null,
      "outputs": [
        {
          "output_type": "stream",
          "name": "stdout",
          "text": [
            "Respirando...\n"
          ]
        }
      ]
    },
    {
      "cell_type": "code",
      "source": [
        "// Java\n",
        "class SerVivo {\n",
        "    void respirar() {\n",
        "        System.out.println(\"Respirando...\");\n",
        "    }\n",
        "}\n",
        "\n",
        "class Humano extends SerVivo {}\n",
        "\n",
        "public class Main {\n",
        "    public static void main(String[] args) {\n",
        "        Humano h = new Humano();\n",
        "        h.respirar();\n",
        "    }\n",
        "}\n"
      ],
      "metadata": {
        "id": "aCwghcVl7FgO"
      },
      "execution_count": null,
      "outputs": []
    }
  ]
}