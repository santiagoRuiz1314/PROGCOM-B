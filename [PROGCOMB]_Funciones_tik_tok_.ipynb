{
  "nbformat": 4,
  "nbformat_minor": 0,
  "metadata": {
    "colab": {
      "provenance": []
    },
    "kernelspec": {
      "name": "python3",
      "display_name": "Python 3"
    },
    "language_info": {
      "name": "python"
    }
  },
  "cells": [
    {
      "cell_type": "markdown",
      "source": [
        "Salto\n",
        "\n",
        "movimiento brazos horizontales\n",
        "\n",
        "  {mov derecha izquierda}\n",
        "\n",
        "movimiento brazos verticales\n",
        "\n",
        "  {mov arriba hacia y abajo}\n",
        "\n",
        "giro\n",
        "\n",
        "  {completo}\n",
        "\n",
        "movimiento de cadera\n",
        "\n",
        "  {izq derecha}\n",
        "\n",
        "giro derecha\n",
        "\n",
        "  {medio giro}\n",
        "\n",
        "jugador 1,23 movimientos alocados\n",
        "\n",
        "jugador 4 movimiento de cabeza"
      ],
      "metadata": {
        "id": "ShCXCc89qTKN"
      }
    },
    {
      "cell_type": "code",
      "source": [
        "def salto(repeticion):\n",
        "  for i in range(repeticion):\n",
        "    print(\"salto \")\n",
        "\n",
        "def m_br_hor(repeticion,lado):\n",
        "  for i in range(repeticion):\n",
        "    for k in range(lado):\n",
        "      print(\"mover brazo izquierda\")\n",
        "    for j in range(lado):\n",
        "      print(\"mover brazo derecha\")\n",
        "\n",
        "def m_br_ver (repeticion,lado):\n",
        "  for e in range(repeticion):\n",
        "    for a in range(lado):\n",
        "      print(\"mover brazo arriba\")\n",
        "    for u in range(lado):\n",
        "      print(\"mover brazo abajo\")\n",
        "\n",
        "def giro():\n",
        "  print(\"giro grupal\")\n",
        "\n",
        "def mov_cade(repeticion,lado):\n",
        "  for e in range(repeticion):\n",
        "    for a in range(lado):\n",
        "      print(\"mover cadera izquierda\")\n",
        "    for u in range(lado):\n",
        "      print(\"mover cadera derecha\")\n",
        "\n",
        "def med_giro():\n",
        "  print(\"medio giro\")\n",
        "\n",
        "def mov_alocados():\n",
        "  print(\"movimiento alocado en grupo\")\n",
        "\n",
        "def mov_cabeza():\n",
        "  print(\"jugador4 mueve cabeza alocada\")"
      ],
      "metadata": {
        "id": "OJhksFd5sXKA"
      },
      "execution_count": 30,
      "outputs": []
    },
    {
      "cell_type": "code",
      "source": [
        "# salto(9)\n",
        "# m_br_hor(3,1)\n",
        "# m_br_ver(3,1)\n",
        "# giro()\n",
        "# mov_cade(3,1)\n",
        "# med_giro()\n",
        "mov_alocados()\n",
        "mov_cabeza()"
      ],
      "metadata": {
        "colab": {
          "base_uri": "https://localhost:8080/"
        },
        "id": "sApCJqVSs_Sw",
        "outputId": "f9933647-e2da-4e2f-ea48-ab7076a918ce"
      },
      "execution_count": 31,
      "outputs": [
        {
          "output_type": "stream",
          "name": "stdout",
          "text": [
            "movimiento alocado en grupo\n",
            "jugador4 mueve cabeza alocada\n"
          ]
        }
      ]
    }
  ]
}