{
  "nbformat": 4,
  "nbformat_minor": 0,
  "metadata": {
    "colab": {
      "provenance": []
    },
    "kernelspec": {
      "name": "python3",
      "display_name": "Python 3"
    },
    "language_info": {
      "name": "python"
    }
  },
  "cells": [
    {
      "cell_type": "markdown",
      "source": [
        "##Ejercicio 6\n",
        "\n",
        "Desarrolla un programa que determine si un número es par o impar.\n"
      ],
      "metadata": {
        "id": "FCPHNv2bjAdY"
      }
    },
    {
      "cell_type": "code",
      "source": [
        "numero = int(input(\"Ingrese un número: \"))\n",
        "\n",
        "\n"
      ],
      "metadata": {
        "id": "b63ZQQbNjGb0",
        "colab": {
          "base_uri": "https://localhost:8080/"
        },
        "outputId": "ec87c0b7-f80e-4e57-805a-233c5a0f172b"
      },
      "execution_count": 1,
      "outputs": [
        {
          "name": "stdout",
          "output_type": "stream",
          "text": [
            "Ingrese un número: 2\n"
          ]
        }
      ]
    },
    {
      "cell_type": "code",
      "source": [
        "if numero % 2 == 0:\n",
        "  resultado = \"par\"\n",
        "else: \"impar\"\n",
        "print(f\"El número {numero} es {resultado}\")"
      ],
      "metadata": {
        "colab": {
          "base_uri": "https://localhost:8080/"
        },
        "id": "9zm3ZA8Ii2Hl",
        "outputId": "491640ad-3b72-420c-baa3-9287a8ab78e6"
      },
      "execution_count": 4,
      "outputs": [
        {
          "output_type": "stream",
          "name": "stdout",
          "text": [
            "El número 2 es par\n"
          ]
        }
      ]
    },
    {
      "cell_type": "code",
      "source": [
        "if numero % 2 == 0: resultado = \"par\"\n",
        "else: \"impar\"\n",
        "print(f\"El número {numero} es {resultado}\")"
      ],
      "metadata": {
        "colab": {
          "base_uri": "https://localhost:8080/"
        },
        "id": "sNN7x48XkBes",
        "outputId": "59b277b4-1bb6-479a-d292-37edba3ab90d"
      },
      "execution_count": 5,
      "outputs": [
        {
          "output_type": "stream",
          "name": "stdout",
          "text": [
            "El número 2 es par\n"
          ]
        }
      ]
    },
    {
      "cell_type": "code",
      "source": [
        "match numero:\n",
        "  case numero if numero % 2 == 0:\n",
        "    resultado = \"par\"\n",
        "  case _:\n",
        "    resultado = \"impar\"\n",
        "print(f\"El número {numero} es {resultado}\")"
      ],
      "metadata": {
        "colab": {
          "base_uri": "https://localhost:8080/"
        },
        "id": "SV8YEComkqCB",
        "outputId": "0602189d-73be-4bf3-edbc-09f246202c03"
      },
      "execution_count": 6,
      "outputs": [
        {
          "output_type": "stream",
          "name": "stdout",
          "text": [
            "El número 2 es par\n"
          ]
        }
      ]
    },
    {
      "cell_type": "code",
      "source": [
        "print(f\"El número {numero} es {'par' if numero % 2 == 0 else 'impar'}\")\n",
        "\n"
      ],
      "metadata": {
        "colab": {
          "base_uri": "https://localhost:8080/"
        },
        "id": "3r4tnhwclAaw",
        "outputId": "a36552f5-2d2d-4ede-bf3c-004d6dcff9cc"
      },
      "execution_count": 7,
      "outputs": [
        {
          "output_type": "stream",
          "name": "stdout",
          "text": [
            "El número 2 es par\n"
          ]
        }
      ]
    },
    {
      "cell_type": "markdown",
      "source": [
        "##Ejericio 7\n",
        "\n",
        "Crea un programa que determine si un año es bisiesto (divisible por 4 y no por 100, o divisible por 400).\n",
        "\n"
      ],
      "metadata": {
        "id": "nRK79Pyimh58"
      }
    },
    {
      "cell_type": "code",
      "source": [
        "fecha=int(input(\"INGRESE UN AÑO:\"))"
      ],
      "metadata": {
        "colab": {
          "base_uri": "https://localhost:8080/"
        },
        "id": "HpxgTDcumr8a",
        "outputId": "a78650e7-b46d-45bd-b63c-61ec3cba2516"
      },
      "execution_count": 8,
      "outputs": [
        {
          "name": "stdout",
          "output_type": "stream",
          "text": [
            "INGRESE UN AÑO:2018\n"
          ]
        }
      ]
    },
    {
      "cell_type": "code",
      "source": [
        "if fecha % 4 == 0 and fecha % 100 != 0 or fecha % 400 == 0:\n",
        "  print(\"el año es bisiesto\")\n",
        "else:\n",
        "  print(\"el año no es bisiesto\")"
      ],
      "metadata": {
        "colab": {
          "base_uri": "https://localhost:8080/"
        },
        "id": "CGPSP-ClpszQ",
        "outputId": "aafae60e-cdb1-480d-ad93-ac14c99f0060"
      },
      "execution_count": 9,
      "outputs": [
        {
          "output_type": "stream",
          "name": "stdout",
          "text": [
            "el año no es bisiesto\n"
          ]
        }
      ]
    },
    {
      "cell_type": "code",
      "source": [
        "if fecha % 4 == 0 and fecha % 100 != 0 or fecha % 400 == 0: print(\"el año es bisiesto\")\n",
        "else: print(\"el año no es bisiesto\")"
      ],
      "metadata": {
        "colab": {
          "base_uri": "https://localhost:8080/"
        },
        "id": "VTN_FONqp2mn",
        "outputId": "f806b3f0-fca0-48e1-8780-d9ab55fb4bcb"
      },
      "execution_count": 10,
      "outputs": [
        {
          "output_type": "stream",
          "name": "stdout",
          "text": [
            "el año no es bisiesto\n"
          ]
        }
      ]
    },
    {
      "cell_type": "code",
      "source": [
        "match fecha:\n",
        "    case fecha if fecha % 4 == 0 and fecha % 100 != 0 or fecha % 400 == 0:\n",
        "        print(\"el año es bisiesto\")\n",
        "    case _:\n",
        "        print(\"el año no es bisiesto\")"
      ],
      "metadata": {
        "colab": {
          "base_uri": "https://localhost:8080/"
        },
        "id": "P7U8RqskqBkU",
        "outputId": "90bc5edf-9124-411b-9f4a-9a3c81699a79"
      },
      "execution_count": 11,
      "outputs": [
        {
          "output_type": "stream",
          "name": "stdout",
          "text": [
            "el año no es bisiesto\n"
          ]
        }
      ]
    },
    {
      "cell_type": "code",
      "source": [
        "print(\"el año es bisiesto\") if fecha % 4 == 0 and fecha % 100 != 0 or fecha % 400 == 0 else print(\"el año no es bisiesto\")"
      ],
      "metadata": {
        "colab": {
          "base_uri": "https://localhost:8080/"
        },
        "id": "OLoQC3vPqN8v",
        "outputId": "ff34fea3-f2e6-4e45-b17c-2a7aca1f76b4"
      },
      "execution_count": 12,
      "outputs": [
        {
          "output_type": "stream",
          "name": "stdout",
          "text": [
            "el año no es bisiesto\n"
          ]
        }
      ]
    },
    {
      "cell_type": "markdown",
      "source": [
        "##Ejericicio 8\n",
        "\n",
        "Escribe un programa que solicite el nombre del usuario y determine si una persona pertenece a la tercera edad (70 años o más) y si se cumple la condición, imprima que se le da prioridad en la fila.\n",
        "\n"
      ],
      "metadata": {
        "id": "8dhiVvQHqVpx"
      }
    },
    {
      "cell_type": "code",
      "source": [
        "nombre=(input(\"ingrese su nombre:\"))\n",
        "edad=int(input(\"INGRESE SU EDAD:\"))"
      ],
      "metadata": {
        "colab": {
          "base_uri": "https://localhost:8080/"
        },
        "id": "nx7tFAGXqeEm",
        "outputId": "aebf54c3-3dcf-432d-b3bf-eb99d625e821"
      },
      "execution_count": 15,
      "outputs": [
        {
          "name": "stdout",
          "output_type": "stream",
          "text": [
            "ingrese su nombre:Santiago\n",
            "INGRESE SU EDAD:81\n"
          ]
        }
      ]
    },
    {
      "cell_type": "code",
      "source": [
        "if edad >= 70:\n",
        "    print(\"se le da prioridad en la fila\")\n",
        "else:\n",
        "    print(\"no se le da prioridad en la fila\")"
      ],
      "metadata": {
        "colab": {
          "base_uri": "https://localhost:8080/"
        },
        "id": "vybwbVcFqp2X",
        "outputId": "3b33128a-bbf1-4c2a-edd3-3238fc59089b"
      },
      "execution_count": 16,
      "outputs": [
        {
          "output_type": "stream",
          "name": "stdout",
          "text": [
            "se le da prioridad en la fila\n"
          ]
        }
      ]
    },
    {
      "cell_type": "code",
      "source": [
        "if edad >= 70: print(\"se le da prioridad en la fila\")\n",
        "else: print(\"no se le da prioridad en la fila\")"
      ],
      "metadata": {
        "colab": {
          "base_uri": "https://localhost:8080/"
        },
        "id": "0SXkHs1Fq13M",
        "outputId": "fa439bf2-3bbb-415f-9697-369e84ea291c"
      },
      "execution_count": 17,
      "outputs": [
        {
          "output_type": "stream",
          "name": "stdout",
          "text": [
            "se le da prioridad en la fila\n"
          ]
        }
      ]
    },
    {
      "cell_type": "code",
      "source": [
        "match edad:\n",
        "    case edad if edad >= 70:\n",
        "        print(\"se le da prioridad en la fila\")\n",
        "    case _:\n",
        "        print(\"no se le da prioridad en la fila\")"
      ],
      "metadata": {
        "colab": {
          "base_uri": "https://localhost:8080/"
        },
        "id": "adE-ZVR2q4j7",
        "outputId": "22dbdf2f-332d-4d09-fb5d-4f664b8a2d37"
      },
      "execution_count": 18,
      "outputs": [
        {
          "output_type": "stream",
          "name": "stdout",
          "text": [
            "se le da prioridad en la fila\n"
          ]
        }
      ]
    },
    {
      "cell_type": "code",
      "source": [
        "print(\"se le da prioridad en la fila\") if edad >= 70 else print(\"no se le da prioridad en la fila\")"
      ],
      "metadata": {
        "colab": {
          "base_uri": "https://localhost:8080/"
        },
        "id": "j4kWWHnrq_Ty",
        "outputId": "2eebd313-b42c-4093-8d76-765e084fcffe"
      },
      "execution_count": 19,
      "outputs": [
        {
          "output_type": "stream",
          "name": "stdout",
          "text": [
            "se le da prioridad en la fila\n"
          ]
        }
      ]
    },
    {
      "cell_type": "markdown",
      "source": [
        "##Ejericio 9\n",
        "\n",
        "Desarrolla un programa que compare tres números y muestre el mayor."
      ],
      "metadata": {
        "id": "fr7BjgNSrC_R"
      }
    },
    {
      "cell_type": "code",
      "source": [
        "valor1=int(input(\"Ingrese un numero:\"))\n",
        "valor2=int(input(\"Ingrese un numero:\"))\n",
        "valor3=int(input(\"Ingrese un numero:\"))"
      ],
      "metadata": {
        "colab": {
          "base_uri": "https://localhost:8080/"
        },
        "id": "IA9uoYPZrnpd",
        "outputId": "04d8a49c-eb24-444d-e49a-c1c7c3575ee7"
      },
      "execution_count": 20,
      "outputs": [
        {
          "name": "stdout",
          "output_type": "stream",
          "text": [
            "Ingrese un numero:3\n",
            "Ingrese un numero:2\n",
            "Ingrese un numero:1\n"
          ]
        }
      ]
    },
    {
      "cell_type": "code",
      "source": [
        "if valor1 > valor2:\n",
        "  if valor1 > valor3:\n",
        "    print(\"El mayor es:\", valor1)\n",
        "  else:\n",
        "    print(\"El mayor es:\", valor3)\n",
        "else:\n",
        "  if valor2 > valor3:\n",
        "    print(\"El mayor es:\", valor2)\n",
        "  else:\n",
        "    print(\"El mayor es:\", valor3)"
      ],
      "metadata": {
        "colab": {
          "base_uri": "https://localhost:8080/"
        },
        "id": "bqhlkNxzrywt",
        "outputId": "11094ba7-4a84-4d96-a8aa-35796aa5182f"
      },
      "execution_count": 21,
      "outputs": [
        {
          "output_type": "stream",
          "name": "stdout",
          "text": [
            "El mayor es: 3\n"
          ]
        }
      ]
    },
    {
      "cell_type": "code",
      "source": [
        "if valor1 > valor2 and valor1 > valor3: print(\"El mayor es:\", valor1)\n",
        "elif valor2 > valor1 and valor2 > valor3: print(\"El mayor es:\", valor2)\n",
        "else: print(\"El mayor es:\", valor3)"
      ],
      "metadata": {
        "colab": {
          "base_uri": "https://localhost:8080/"
        },
        "id": "nMn4tbEpsAC0",
        "outputId": "c792f2d3-c28b-4c90-de07-6dffdbc60c69"
      },
      "execution_count": 22,
      "outputs": [
        {
          "output_type": "stream",
          "name": "stdout",
          "text": [
            "El mayor es: 3\n"
          ]
        }
      ]
    },
    {
      "cell_type": "code",
      "source": [
        "match valor1:\n",
        "    case valor1 if valor1 > valor2 and valor1 > valor3:\n",
        "        print(\"El mayor es:\", valor1)"
      ],
      "metadata": {
        "colab": {
          "base_uri": "https://localhost:8080/"
        },
        "id": "NUP5fHhGsRhU",
        "outputId": "10551316-037c-40ef-961a-f81052d56915"
      },
      "execution_count": 23,
      "outputs": [
        {
          "output_type": "stream",
          "name": "stdout",
          "text": [
            "El mayor es: 3\n"
          ]
        }
      ]
    },
    {
      "cell_type": "code",
      "source": [
        "print(\"El mayor es:\", valor1) if valor1 > valor2 and valor1 > valor3 else print(\"El mayor es:\", valor2) if valor2 > valor1 and valor2 > valor3 else print(\"El mayor es:\", valor3)"
      ],
      "metadata": {
        "colab": {
          "base_uri": "https://localhost:8080/"
        },
        "id": "3ZjB0HDmsYP3",
        "outputId": "3fc682f4-dd2d-4ca0-d97d-5892ec3606d8"
      },
      "execution_count": 24,
      "outputs": [
        {
          "output_type": "stream",
          "name": "stdout",
          "text": [
            "El mayor es: 3\n"
          ]
        }
      ]
    },
    {
      "cell_type": "markdown",
      "source": [
        "##Ejericio 10\n",
        " Crea un programa que determine si un triángulo es equilátero, isósceles o escaleno según sus lados."
      ],
      "metadata": {
        "id": "MTAaxYEcsocm"
      }
    },
    {
      "cell_type": "code",
      "source": [
        "Lado1=int(input(\"INGRESE EL LADO 1:\"))\n",
        "Lado2=int(input(\"INGRESE EL LADO 2:\"))\n",
        "Lado3=int(input(\"INGRESE EL LADO 3:\"))"
      ],
      "metadata": {
        "colab": {
          "base_uri": "https://localhost:8080/"
        },
        "id": "s6oEsn72ssCH",
        "outputId": "f6de25ee-6d36-469f-8d44-4cfa85424f89"
      },
      "execution_count": 25,
      "outputs": [
        {
          "name": "stdout",
          "output_type": "stream",
          "text": [
            "INGRESE EL LADO 1:12\n",
            "INGRESE EL LADO 2:3\n",
            "INGRESE EL LADO 3:45\n"
          ]
        }
      ]
    },
    {
      "cell_type": "code",
      "source": [
        "if Lado1 == Lado2:\n",
        "  if Lado2 == Lado3:\n",
        "    print(\"El triángulo es equilátero\")\n",
        "  else:\n",
        "    print(\"El triángulo es isósceles\")\n",
        "else:\n",
        "  if Lado1 == Lado3:\n",
        "    print(\"El triángulo es isósceles\")\n",
        "  else:\n",
        "    if Lado2 == Lado3:\n",
        "      print(\"El triángulo es isósceles\")\n",
        "    else:\n",
        "      print(\"El triángulo es escaleno\")"
      ],
      "metadata": {
        "colab": {
          "base_uri": "https://localhost:8080/"
        },
        "id": "eAhExsjts83c",
        "outputId": "f03f0b8f-ea8f-4530-b8aa-d4271970157c"
      },
      "execution_count": 26,
      "outputs": [
        {
          "output_type": "stream",
          "name": "stdout",
          "text": [
            "El triángulo es escaleno\n"
          ]
        }
      ]
    },
    {
      "cell_type": "code",
      "source": [
        "if Lado1 == Lado2 and Lado2 == Lado3: print(\"El triángulo es equilátero\")\n",
        "elif Lado1 == Lado2 or Lado2 == Lado3 or Lado1 == Lado3: print(\"El triángulo es isósceles\")\n",
        "else: print(\"El triángulo es escaleno\")"
      ],
      "metadata": {
        "colab": {
          "base_uri": "https://localhost:8080/"
        },
        "id": "ZH5Odu64tCtQ",
        "outputId": "1cf57071-fad9-4d98-82cb-0847fdde833e"
      },
      "execution_count": 27,
      "outputs": [
        {
          "output_type": "stream",
          "name": "stdout",
          "text": [
            "El triángulo es escaleno\n"
          ]
        }
      ]
    },
    {
      "cell_type": "code",
      "source": [
        "match Lado1:\n",
        "    case Lado1 if Lado1 == Lado2 and Lado2 == Lado3:\n",
        "        print(\"El triángulo es equilátero\")\n",
        "    case Lado1 if Lado1 == Lado2 or Lado1 == Lado3 or Lado2 == Lado3:\n",
        "        print(\"El triángulo es isósceles\")\n",
        "    case _:\n",
        "        print(\"El triángulo es escaleno\")"
      ],
      "metadata": {
        "colab": {
          "base_uri": "https://localhost:8080/"
        },
        "id": "W014H73NtJTH",
        "outputId": "a7c471e5-2fd3-4711-a260-2dfe3c4443e0"
      },
      "execution_count": 28,
      "outputs": [
        {
          "output_type": "stream",
          "name": "stdout",
          "text": [
            "El triángulo es escaleno\n"
          ]
        }
      ]
    },
    {
      "cell_type": "code",
      "source": [
        "print(\"El triángulo es equilátero\") if Lado1 == Lado2 and Lado2 == Lado3 else print(\"El triángulo es isósceles\") if Lado1 == Lado2 or Lado1 == Lado3 or Lado2 == Lado3 else print(\"El triángulo es escaleno\")"
      ],
      "metadata": {
        "colab": {
          "base_uri": "https://localhost:8080/"
        },
        "id": "caGs97sXtRAv",
        "outputId": "2d82cc70-5006-4cfe-f634-1a2d2677bd8c"
      },
      "execution_count": 29,
      "outputs": [
        {
          "output_type": "stream",
          "name": "stdout",
          "text": [
            "El triángulo es escaleno\n"
          ]
        }
      ]
    }
  ]
}